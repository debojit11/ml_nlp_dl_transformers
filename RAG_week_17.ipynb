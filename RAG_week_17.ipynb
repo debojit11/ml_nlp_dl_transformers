{
  "nbformat": 4,
  "nbformat_minor": 0,
  "metadata": {
    "colab": {
      "provenance": [],
      "authorship_tag": "ABX9TyM/wEJD2xm6/Se50rKTaI83",
      "include_colab_link": true
    },
    "kernelspec": {
      "name": "python3",
      "display_name": "Python 3"
    },
    "language_info": {
      "name": "python"
    }
  },
  "cells": [
    {
      "cell_type": "markdown",
      "metadata": {
        "id": "view-in-github",
        "colab_type": "text"
      },
      "source": [
        "<a href=\"https://colab.research.google.com/github/debojit11/ml_nlp_dl_transformers/blob/main/RAG_week_17.ipynb\" target=\"_parent\"><img src=\"https://colab.research.google.com/assets/colab-badge.svg\" alt=\"Open In Colab\"/></a>"
      ]
    },
    {
      "cell_type": "markdown",
      "source": [
        "# Week 17: Retrieval-Augmented Generation (RAG) – Part 1"
      ],
      "metadata": {
        "id": "0cUtDLhYbGBK"
      }
    },
    {
      "cell_type": "markdown",
      "source": [
        "# **SECTION 1: Welcome & Objectives**"
      ],
      "metadata": {
        "id": "tHSeCEWzbMrL"
      }
    },
    {
      "cell_type": "code",
      "execution_count": null,
      "metadata": {
        "colab": {
          "base_uri": "https://localhost:8080/"
        },
        "id": "2GjRcNj_bFNA",
        "outputId": "aa6f6ac9-bf49-4e84-ff5c-321f9c92356e"
      },
      "outputs": [
        {
          "output_type": "stream",
          "name": "stdout",
          "text": [
            "Welcome to Week 17: Retrieval-Augmented Generation!\n",
            "This week, you'll:\n",
            "- Understand what RAG is and why it's important\n",
            "- Learn about dense vs sparse retrieval\n",
            "- Build a simple QA system with FAISS + Transformers\n"
          ]
        }
      ],
      "source": [
        "print(\"Welcome to Week 17: Retrieval-Augmented Generation!\")\n",
        "print(\"This week, you'll:\")\n",
        "print(\"- Understand what RAG is and why it's important\")\n",
        "print(\"- Learn about dense vs sparse retrieval\")\n",
        "print(\"- Build a simple QA system with FAISS + Transformers\")"
      ]
    },
    {
      "cell_type": "markdown",
      "source": [
        "# **SECTION 2: What is RAG?**"
      ],
      "metadata": {
        "id": "St1UGHZvbYYU"
      }
    },
    {
      "cell_type": "markdown",
      "source": [
        "# 🧠 Week 17 – Introduction to Retrieval-Augmented Generation (RAG)\n",
        "\n",
        "---\n",
        "\n",
        "## 🔍 What is RAG?\n",
        "\n",
        "**Retrieval-Augmented Generation (RAG)** combines:\n",
        "- **Retrieval models** (e.g., FAISS, BM25, embeddings)\n",
        "- **Generative models** (e.g., T5, BART)\n",
        "\n",
        "Workflow:\n",
        "1. Retrieve relevant chunks of text using embeddings\n",
        "2. Feed them as context to a text generator\n",
        "3. Generate grounded, factual outputs\n",
        "\n",
        "---\n",
        "\n",
        "## 📊 Why Use RAG?\n",
        "\n",
        "| Problem                  | Traditional Model | With RAG         |\n",
        "|--------------------------|-------------------|------------------|\n",
        "| Factual hallucination    | ❌ Often inaccurate| ✅ Uses external knowledge |\n",
        "| Outdated information     | ❌ Frozen knowledge| ✅ Can query up-to-date data |\n",
        "| Long documents           | ❌ Token limits    | ✅ Retrieve only what's needed |\n",
        "\n",
        "---\n",
        "\n",
        "## 🧱 Components of RAG\n",
        "\n",
        "| Component       | Role                                         |\n",
        "|------------------|----------------------------------------------|\n",
        "| Retriever        | Finds relevant documents (dense or sparse)   |\n",
        "| Reader / Generator | Generates answer based on retrieved docs  |\n",
        "| Index            | Fast lookup structure (e.g., FAISS)          |\n",
        "\n",
        "---\n"
      ],
      "metadata": {
        "id": "p7mTq6L8bbwd"
      }
    },
    {
      "cell_type": "markdown",
      "source": [
        "## 🔁 Types of Retrieval\n",
        "\n",
        "| Type    | Method            | Example Libraries          |\n",
        "|---------|-------------------|----------------------------|\n",
        "| Sparse  | TF-IDF, BM25       | scikit-learn, ElasticSearch |\n",
        "| Dense   | Embedding-based    | sentence-transformers, FAISS |\n",
        "\n",
        "---\n",
        "\n",
        "## 🧪 Mini RAG Pipeline: Dense Retrieval + T5\n",
        "\n",
        "1. Encode docs using `SentenceTransformer`\n",
        "2. Store in FAISS index\n",
        "3. At query time:\n",
        "   - Encode query\n",
        "   - Retrieve top-k docs\n",
        "   - Pass to `T5` for generation\n",
        "\n",
        "```python\n",
        "# Example: \"Where is the Eiffel Tower?\"\n",
        "retrieved = [\"The Eiffel Tower is located in Paris.\", \"The capital of France is Paris.\"]  \n",
        "context = \" \".join(retrieved)  \n",
        "prompt = \"question: Where is the Eiffel Tower? context: \" + context\n",
        "```"
      ],
      "metadata": {
        "id": "lEBBR_kAces5"
      }
    },
    {
      "cell_type": "markdown",
      "source": [
        "# **SECTION 3: Setup a Tiny Document Corpus**"
      ],
      "metadata": {
        "id": "NAB7synrbe0j"
      }
    },
    {
      "cell_type": "code",
      "source": [
        "corpus = [\n",
        "    \"The capital of France is Paris.\",\n",
        "    \"BERT is a transformer-based model developed by Google.\",\n",
        "    \"T5 treats every NLP task as text-to-text.\",\n",
        "    \"The Eiffel Tower is located in Paris.\",\n",
        "]"
      ],
      "metadata": {
        "id": "5QrXgdSNbaEj"
      },
      "execution_count": null,
      "outputs": []
    },
    {
      "cell_type": "markdown",
      "source": [
        "# **SECTION 4: Use Sentence Transformers for Embeddings**"
      ],
      "metadata": {
        "id": "4aqBWq50b4w4"
      }
    },
    {
      "cell_type": "code",
      "source": [
        "!pip install faiss-cpu"
      ],
      "metadata": {
        "colab": {
          "base_uri": "https://localhost:8080/"
        },
        "id": "4IFRem92cRcI",
        "outputId": "6671d046-4df0-4b1a-b542-9d4966570457"
      },
      "execution_count": null,
      "outputs": [
        {
          "output_type": "stream",
          "name": "stdout",
          "text": [
            "Collecting faiss-cpu\n",
            "  Downloading faiss_cpu-1.10.0-cp311-cp311-manylinux_2_28_x86_64.whl.metadata (4.4 kB)\n",
            "Requirement already satisfied: numpy<3.0,>=1.25.0 in /usr/local/lib/python3.11/dist-packages (from faiss-cpu) (2.0.2)\n",
            "Requirement already satisfied: packaging in /usr/local/lib/python3.11/dist-packages (from faiss-cpu) (24.2)\n",
            "Downloading faiss_cpu-1.10.0-cp311-cp311-manylinux_2_28_x86_64.whl (30.7 MB)\n",
            "\u001b[2K   \u001b[90m━━━━━━━━━━━━━━━━━━━━━━━━━━━━━━━━━━━━━━━━\u001b[0m \u001b[32m30.7/30.7 MB\u001b[0m \u001b[31m16.9 MB/s\u001b[0m eta \u001b[36m0:00:00\u001b[0m\n",
            "\u001b[?25hInstalling collected packages: faiss-cpu\n",
            "Successfully installed faiss-cpu-1.10.0\n"
          ]
        }
      ]
    },
    {
      "cell_type": "code",
      "source": [
        "from sentence_transformers import SentenceTransformer\n",
        "import faiss\n",
        "import numpy as np"
      ],
      "metadata": {
        "id": "N1qEKiS-b6Bn"
      },
      "execution_count": null,
      "outputs": []
    },
    {
      "cell_type": "code",
      "source": [
        "model = SentenceTransformer('all-MiniLM-L6-v2')\n",
        "embeddings = model.encode(corpus, convert_to_numpy=True)"
      ],
      "metadata": {
        "colab": {
          "base_uri": "https://localhost:8080/",
          "height": 534,
          "referenced_widgets": [
            "08c7de2bd40b42498b5c43ddaf664124",
            "51e1a5c40f3c43d3ac9c7708b1f4d0c1",
            "82dd8b60cc6c492ea082b9bf82b3de34",
            "7f3e60d3c45a4bd59abce7f1f6128b85",
            "9631ca9a5f6b4994a40d5d412cd1b3db",
            "e9f7617cf93648d58a8d38f349eaa165",
            "5a1bc97c70e04cd198de71610b5fca14",
            "04635162c899489683f3927b1e99561a",
            "255e537c79904e9ba3de92be9691626f",
            "1e5f0070ef7f42b881d648e00d7a46ad",
            "96d5d15596594473b7e6528d691013f8",
            "5185d962758d482aae987616b8463474",
            "f316980acdc84216bc0a25a9b8713ff4",
            "e160b96eccbc474383808730d7ee900d",
            "63f0ebebc7bc4b10889526b80c3da59b",
            "262b4e26be7e4692b1bff6fb85bb3df6",
            "62949e822c994bd2a5bacfaad138b08b",
            "b1de5c17e89f4716bfd38a9ee960e024",
            "5adb65f21c7042809bbbb7decee52b54",
            "6a6bdb2d7abe4962855e2640c29ce9ab",
            "82e58515e60c4492b6974db4fdd99af6",
            "8988cdac21a34888bac7aa62f87365aa",
            "fa281e4d61294011b16996b9c751d24e",
            "1160ec3b860b410bb1b6d437fe682e06",
            "d6f547e7dfca4dfaaec2f5ab93ae9357",
            "8f2e470327c84c2ea5aef132695730e8",
            "1b8c704f245641969e58c1e1ad186b4d",
            "2b94ea4b78294c2f806de9091d8c3244",
            "1ed4d89a03984fac9b801d8afd62c981",
            "6acc26491e6249ce90bf073eb6a3fad5",
            "49f5a2e654424edfab1084ec85187ba1",
            "82a375003247456e8be3d6e07dc7fa44",
            "12f61ec0e5d549b28ab6efbbd1a5d872",
            "b831e687ff4043c9acc1fdb6b1f7f954",
            "3714b21718434ba48110d7d24573f511",
            "7c609cd663164d42bbe245468e4d5bda",
            "8ee16e895f8f48dcb1f12a169e4a0382",
            "b5b3d57cdef246b594a0803903f65565",
            "5f6ac54267554a7cb1986fbdd4e44ab4",
            "8d1b9dc02c21412b96163548a6530905",
            "a0a0ce45e7d2409c8b3f8901ae0de9fa",
            "d1df7f4374f84dd1a081c4ae406ab9f4",
            "c9411985d9c546d885975002ed434a57",
            "6214e2bbf0e14cc6b3379aed48a7e9fd",
            "506bb652d3884e20b4be5d51bbc5e9f5",
            "d634a46ed55d44baa54a694d396f50fc",
            "9a5263bf29ad4cc6ae901381d55af217",
            "28d52919a9c84646856385c6761b9584",
            "fcb0ae38765b45e0b7134f92948c4f40",
            "412fab7e73c747e6941a49bc77290132",
            "f7502b6cac1d4081891ff3ea5333c928",
            "d036f5203b7f421798f22d041d017bdb",
            "85f33367d01e47cfbb6be09f333bbba8",
            "89b707f284f24015a27fba4a0125f8a4",
            "2f1238379b824da6a50351b29c059c24",
            "fa5ddc1857254f0dbe910980ae586b83",
            "3a0222a9a0924f8893e6a3c2d9be4a3d",
            "f089289dc12744a79a4c4b620175290d",
            "b5d978364c81476a964f74e4f51562ea",
            "37cc6924a3d74471ba43a7ecbf68b9cc",
            "f34bcd1a02e848d7ad980730b3c9ceb7",
            "9486cf4b58a644d5be8afefb5a850fa7",
            "49d68ee889f1426ba6cef4e0cc369bc2",
            "942e4d901eb24200a3d1589fd15c3a81",
            "48d34a209ae74f72bede4e2e20e70747",
            "9a29ffbe3b694122a85df8cf91706173",
            "eb198c0e28914b84a185734a7468193b",
            "ea424f8248154a7bb4a43c5905836ecc",
            "98dc66982b6844a6b4ff7d100ceb379f",
            "bad8c0f4e2b34d8fb9695a7f4fcad312",
            "a1e24a5bc09c4938b5de5efb291f5611",
            "86a99242cefd4625b62f3107c1f826ee",
            "f099049a6ce24294a8f20534091bcde6",
            "d9e04674d3694be1a75a4db3e32f0357",
            "3c9199f865844ba085ffe172be5d9bbe",
            "5efad473643b4b3888202d44173dcc39",
            "f02a2283bee646dcb861bc9ca6898654",
            "f6b88fc4a0a94b4eb42534a9d1b09627",
            "bfae6b61d87b4fa49e4515f5293d3e81",
            "05a0d8e7f5964d08819ff7e12943f6e2",
            "fbfe078d24ef4469b0664de62cb3dd58",
            "b0c19b8326d249dd93ffae203429e0d0",
            "c4935900b86e415593764295e0b86866",
            "71743b1408514d1ba0f96d4fcff879fd",
            "c66f3364c3ce4b3c82ee7fb04ecc8904",
            "9772c6e4d226403baaedeb5849945456",
            "85312e57bf34461f8d95ef66705c5f56",
            "267d0cdc93dc4467a94b0c8649322661",
            "22b4c1ae2c2f4b2d91219c8a3d45388f",
            "3e60ea920048410990d05000740c4a3d",
            "baf03b59a92d4c20b9a84d04e8c4bde1",
            "74a34f3b544d471295f3b09a3ee4e067",
            "18c0f84589544124be80bfac06f67081",
            "2aaefe18ebe34517a6e195b45726747c",
            "33e529523fee4e629b799a6c3c4b47d4",
            "61258c89a39b43f69b04d544876c17a0",
            "b22cb094f59743daa513bdd8d6b723a7",
            "a616bd2b38ab40958da3dbe4e7981034",
            "05abbaf760b64addb79de613bcc154b0",
            "fd7e549a95ee44f88cdad4cc5261d892",
            "9c940b5d2f3241fe805369f16242f5d4",
            "f8166433883841c197ff02fb50047da4",
            "40f3774da013489381927c731cf0b48e",
            "1004da28dab64066a6c0940fb552c52b",
            "05d595e8f06344fb93e4a4d21aba9459",
            "f387aa25b8fb4b8e8c161318e5cbd2c2",
            "def8b66eb7c24e2aa6949860782829e8",
            "fc34703025074d00a63279bd1264e2b5",
            "974c4833d31d46738ea646a8097318cc",
            "15742f7be162467ca8cad79e29a6dd83",
            "d309c925693d4693b1b5b49849c5954c",
            "209e84357e174245bf7e0cb7deef8ccf",
            "4f6654df6688490199665d0a43908253",
            "db46a9f8642548588e4aabf98324a727",
            "7de7fd59266c4c08a0874d8ad615702a",
            "ea99cdf5b8c24a4f93da63a23edb4f3b",
            "daddac4ef3494b4296d471799fb903fa",
            "1f7f85b2c91b46f38eeaacfb3464366e",
            "0a5bdbc689cc4c1cb8345cf2dcd76ede",
            "c81b3b66b0e94359ade52facb1d3949f",
            "a272309e271240988c650b90889149ca"
          ]
        },
        "id": "UQUT82xpb7nH",
        "outputId": "0094f0e8-08fb-41c7-b3f7-417300cc59c9"
      },
      "execution_count": null,
      "outputs": [
        {
          "output_type": "stream",
          "name": "stderr",
          "text": [
            "/usr/local/lib/python3.11/dist-packages/huggingface_hub/utils/_auth.py:94: UserWarning: \n",
            "The secret `HF_TOKEN` does not exist in your Colab secrets.\n",
            "To authenticate with the Hugging Face Hub, create a token in your settings tab (https://huggingface.co/settings/tokens), set it as secret in your Google Colab and restart your session.\n",
            "You will be able to reuse this secret in all of your notebooks.\n",
            "Please note that authentication is recommended but still optional to access public models or datasets.\n",
            "  warnings.warn(\n"
          ]
        },
        {
          "output_type": "display_data",
          "data": {
            "text/plain": [
              "modules.json:   0%|          | 0.00/349 [00:00<?, ?B/s]"
            ],
            "application/vnd.jupyter.widget-view+json": {
              "version_major": 2,
              "version_minor": 0,
              "model_id": "08c7de2bd40b42498b5c43ddaf664124"
            }
          },
          "metadata": {}
        },
        {
          "output_type": "display_data",
          "data": {
            "text/plain": [
              "config_sentence_transformers.json:   0%|          | 0.00/116 [00:00<?, ?B/s]"
            ],
            "application/vnd.jupyter.widget-view+json": {
              "version_major": 2,
              "version_minor": 0,
              "model_id": "5185d962758d482aae987616b8463474"
            }
          },
          "metadata": {}
        },
        {
          "output_type": "display_data",
          "data": {
            "text/plain": [
              "README.md:   0%|          | 0.00/10.5k [00:00<?, ?B/s]"
            ],
            "application/vnd.jupyter.widget-view+json": {
              "version_major": 2,
              "version_minor": 0,
              "model_id": "fa281e4d61294011b16996b9c751d24e"
            }
          },
          "metadata": {}
        },
        {
          "output_type": "display_data",
          "data": {
            "text/plain": [
              "sentence_bert_config.json:   0%|          | 0.00/53.0 [00:00<?, ?B/s]"
            ],
            "application/vnd.jupyter.widget-view+json": {
              "version_major": 2,
              "version_minor": 0,
              "model_id": "b831e687ff4043c9acc1fdb6b1f7f954"
            }
          },
          "metadata": {}
        },
        {
          "output_type": "display_data",
          "data": {
            "text/plain": [
              "config.json:   0%|          | 0.00/612 [00:00<?, ?B/s]"
            ],
            "application/vnd.jupyter.widget-view+json": {
              "version_major": 2,
              "version_minor": 0,
              "model_id": "506bb652d3884e20b4be5d51bbc5e9f5"
            }
          },
          "metadata": {}
        },
        {
          "output_type": "stream",
          "name": "stderr",
          "text": [
            "Xet Storage is enabled for this repo, but the 'hf_xet' package is not installed. Falling back to regular HTTP download. For better performance, install the package with: `pip install huggingface_hub[hf_xet]` or `pip install hf_xet`\n",
            "WARNING:huggingface_hub.file_download:Xet Storage is enabled for this repo, but the 'hf_xet' package is not installed. Falling back to regular HTTP download. For better performance, install the package with: `pip install huggingface_hub[hf_xet]` or `pip install hf_xet`\n"
          ]
        },
        {
          "output_type": "display_data",
          "data": {
            "text/plain": [
              "model.safetensors:   0%|          | 0.00/90.9M [00:00<?, ?B/s]"
            ],
            "application/vnd.jupyter.widget-view+json": {
              "version_major": 2,
              "version_minor": 0,
              "model_id": "fa5ddc1857254f0dbe910980ae586b83"
            }
          },
          "metadata": {}
        },
        {
          "output_type": "display_data",
          "data": {
            "text/plain": [
              "tokenizer_config.json:   0%|          | 0.00/350 [00:00<?, ?B/s]"
            ],
            "application/vnd.jupyter.widget-view+json": {
              "version_major": 2,
              "version_minor": 0,
              "model_id": "eb198c0e28914b84a185734a7468193b"
            }
          },
          "metadata": {}
        },
        {
          "output_type": "display_data",
          "data": {
            "text/plain": [
              "vocab.txt:   0%|          | 0.00/232k [00:00<?, ?B/s]"
            ],
            "application/vnd.jupyter.widget-view+json": {
              "version_major": 2,
              "version_minor": 0,
              "model_id": "f6b88fc4a0a94b4eb42534a9d1b09627"
            }
          },
          "metadata": {}
        },
        {
          "output_type": "display_data",
          "data": {
            "text/plain": [
              "tokenizer.json:   0%|          | 0.00/466k [00:00<?, ?B/s]"
            ],
            "application/vnd.jupyter.widget-view+json": {
              "version_major": 2,
              "version_minor": 0,
              "model_id": "22b4c1ae2c2f4b2d91219c8a3d45388f"
            }
          },
          "metadata": {}
        },
        {
          "output_type": "display_data",
          "data": {
            "text/plain": [
              "special_tokens_map.json:   0%|          | 0.00/112 [00:00<?, ?B/s]"
            ],
            "application/vnd.jupyter.widget-view+json": {
              "version_major": 2,
              "version_minor": 0,
              "model_id": "fd7e549a95ee44f88cdad4cc5261d892"
            }
          },
          "metadata": {}
        },
        {
          "output_type": "display_data",
          "data": {
            "text/plain": [
              "config.json:   0%|          | 0.00/190 [00:00<?, ?B/s]"
            ],
            "application/vnd.jupyter.widget-view+json": {
              "version_major": 2,
              "version_minor": 0,
              "model_id": "d309c925693d4693b1b5b49849c5954c"
            }
          },
          "metadata": {}
        }
      ]
    },
    {
      "cell_type": "code",
      "source": [
        "# Create FAISS index\n",
        "index = faiss.IndexFlatL2(embeddings.shape[1])\n",
        "index.add(embeddings)"
      ],
      "metadata": {
        "id": "1vzwV0LGctDk"
      },
      "execution_count": null,
      "outputs": []
    },
    {
      "cell_type": "markdown",
      "source": [
        "# **SECTION 5: Retrieve Top-k Documents**"
      ],
      "metadata": {
        "id": "thN0EtVzcz_U"
      }
    },
    {
      "cell_type": "code",
      "source": [
        "def retrieve(query, k=2):\n",
        "    query_vec = model.encode([query], convert_to_numpy=True)\n",
        "    D, I = index.search(query_vec, k)\n",
        "    return [corpus[i] for i in I[0]]\n",
        "\n",
        "print(\"Retrieved:\", retrieve(\"Where is Eiffel Tower?\"))"
      ],
      "metadata": {
        "colab": {
          "base_uri": "https://localhost:8080/"
        },
        "id": "Ne5GbTCdcxvM",
        "outputId": "79ff0751-cacd-4549-b4f4-adf0bf5384a4"
      },
      "execution_count": null,
      "outputs": [
        {
          "output_type": "stream",
          "name": "stdout",
          "text": [
            "Retrieved: ['The Eiffel Tower is located in Paris.', 'The capital of France is Paris.']\n"
          ]
        }
      ]
    },
    {
      "cell_type": "markdown",
      "source": [
        "# **SECTION 6: Generate Answer with T5**"
      ],
      "metadata": {
        "id": "-wOgKuFkdBDO"
      }
    },
    {
      "cell_type": "code",
      "source": [
        "from transformers import pipeline"
      ],
      "metadata": {
        "id": "j_j4Pg3nc3gl"
      },
      "execution_count": null,
      "outputs": []
    },
    {
      "cell_type": "code",
      "source": [
        "t5 = pipeline(\"text2text-generation\", model=\"t5-small\")"
      ],
      "metadata": {
        "colab": {
          "base_uri": "https://localhost:8080/",
          "height": 283,
          "referenced_widgets": [
            "93be2a5c841643c89f6f03379f24939a",
            "a606d11fee654a2c976e6492ef8bc87e",
            "58075d5f74e54e42b24b8a120c9fb32a",
            "999e048bb2704aaf8d923eb2192a7212",
            "f59e2d0e034947da973e74376e6dce1d",
            "738ed7c456614887a5d3faad0c8c35e5",
            "c69636dba8cb4394b43e1ba9d6331747",
            "9c62eea7363f4f12832b034494b592b4",
            "13e7294154444a0997cc6e070a2c53ff",
            "5738190d9df64797806314abb898cd8a",
            "c2f653addb004ccf8af9be6c55a9327c",
            "0016739583c04f4fb84073af4301a8da",
            "9f41f438510448c9b350207910f91226",
            "984ba21679ae406a87b42f8191e7cff8",
            "a7606cbe53b245b18c04a33a5c46ad24",
            "0bed21dff6d3450ebcd41cf8b08a822c",
            "83bfa9503b2e4f3684041e5a30206d86",
            "297d9f00f70e4f9baa22f907994f6f64",
            "381154655a33462581a60900ce9efe5e",
            "1b55cfc87b104eeb89564120bdc47712",
            "7fbad81e058e485b8cc1ea99052ea294",
            "e8ffe81b9f70411786075a08e7c791db",
            "c8d791b4a758473196a105d3a5676023",
            "1bbfa132a5f3408faabb62ae06ebb7c8",
            "bcfbf81c633f4be8bdef24242a5f8ea2",
            "92d480dc029f4f228de4fe4c3e9cf1ff",
            "1229f3d682744405a86ddfe0567a369e",
            "c16e12237bbb4132a03cf65846fa8480",
            "cd3b982655d8400f87569c44a44a72f6",
            "056125680fd34a2a90f0974dde0c9d08",
            "90899f77ae6b4349b9c117f6f583568e",
            "f937c1a615ec44279016a4140fd058b3",
            "b93ee05767b24c0db1273cfa48d0c828",
            "6dfae5f4383049348cfc5dfbca056731",
            "fe5d221240204f459c19d1f9bb9d1858",
            "45717b06b16c45f39627df0369a759b6",
            "d7c447e699d54b4baf3506a08d607ab3",
            "ce861a3833484346a94e72d425529c70",
            "bbfba0d1661e43eaaa664158c2d7b8b5",
            "372624254cd04976bb6509dd874e14bc",
            "d9fcc7d777ae474397c20aa6263ce041",
            "41f587f95f49424da12bdcbe905d60cc",
            "9147d52ec0b54a64b2d5104c8531d0e1",
            "41d536cfb962470388deba0c212bb299",
            "7cbcbd525bc94411b13c250b813ab70a",
            "ef83fc71e8f14420bc0abfb78e5b6759",
            "ddff77534b8e40de8f9be2517e93c893",
            "32db54d0c3404e47bc53a76396c12816",
            "23925845d008408c8bb7dbea3c5532a4",
            "e4c3fa9735514823a62c26749c6db9c7",
            "3b3e22a40a61465db92ca9ab2795f353",
            "664e33efcdbb486aa74cebc52e8e306f",
            "78cf6f617d9b4c319604c6490ffff1cf",
            "82edc0e0b721485d8b4862ab0851dbdd",
            "c52709cf68734d18b70595dab7037f57",
            "6395acc8ce0f4730a084db76dcc2a4a8",
            "ae87b603810343c39986b3a888c03a5b",
            "c7c599855b384ec38391290a4757f904",
            "1c821682d3844edb9581860dada490c7",
            "8a2bf3d2e00545138b3fbf5242713ba3",
            "ade6642f45374430822f804926be6fab",
            "6420c06690ce4de29c2c656b9f259155",
            "698d496ff571441eaec5e5c3b2007617",
            "3e6a8a88bc48400b91ecb1949076ba3e",
            "33cf03fb79ab4844a3aeeaa201eb9c69",
            "cdc2d16bb9d0418daff40f7bbc439d23"
          ]
        },
        "id": "MPlPHoskdFDu",
        "outputId": "1435b4a4-3f55-4800-c3ae-4c7f52efed89"
      },
      "execution_count": null,
      "outputs": [
        {
          "output_type": "display_data",
          "data": {
            "text/plain": [
              "config.json:   0%|          | 0.00/1.21k [00:00<?, ?B/s]"
            ],
            "application/vnd.jupyter.widget-view+json": {
              "version_major": 2,
              "version_minor": 0,
              "model_id": "93be2a5c841643c89f6f03379f24939a"
            }
          },
          "metadata": {}
        },
        {
          "output_type": "stream",
          "name": "stderr",
          "text": [
            "Xet Storage is enabled for this repo, but the 'hf_xet' package is not installed. Falling back to regular HTTP download. For better performance, install the package with: `pip install huggingface_hub[hf_xet]` or `pip install hf_xet`\n",
            "WARNING:huggingface_hub.file_download:Xet Storage is enabled for this repo, but the 'hf_xet' package is not installed. Falling back to regular HTTP download. For better performance, install the package with: `pip install huggingface_hub[hf_xet]` or `pip install hf_xet`\n"
          ]
        },
        {
          "output_type": "display_data",
          "data": {
            "text/plain": [
              "model.safetensors:   0%|          | 0.00/242M [00:00<?, ?B/s]"
            ],
            "application/vnd.jupyter.widget-view+json": {
              "version_major": 2,
              "version_minor": 0,
              "model_id": "0016739583c04f4fb84073af4301a8da"
            }
          },
          "metadata": {}
        },
        {
          "output_type": "display_data",
          "data": {
            "text/plain": [
              "generation_config.json:   0%|          | 0.00/147 [00:00<?, ?B/s]"
            ],
            "application/vnd.jupyter.widget-view+json": {
              "version_major": 2,
              "version_minor": 0,
              "model_id": "c8d791b4a758473196a105d3a5676023"
            }
          },
          "metadata": {}
        },
        {
          "output_type": "display_data",
          "data": {
            "text/plain": [
              "tokenizer_config.json:   0%|          | 0.00/2.32k [00:00<?, ?B/s]"
            ],
            "application/vnd.jupyter.widget-view+json": {
              "version_major": 2,
              "version_minor": 0,
              "model_id": "6dfae5f4383049348cfc5dfbca056731"
            }
          },
          "metadata": {}
        },
        {
          "output_type": "display_data",
          "data": {
            "text/plain": [
              "spiece.model:   0%|          | 0.00/792k [00:00<?, ?B/s]"
            ],
            "application/vnd.jupyter.widget-view+json": {
              "version_major": 2,
              "version_minor": 0,
              "model_id": "7cbcbd525bc94411b13c250b813ab70a"
            }
          },
          "metadata": {}
        },
        {
          "output_type": "display_data",
          "data": {
            "text/plain": [
              "tokenizer.json:   0%|          | 0.00/1.39M [00:00<?, ?B/s]"
            ],
            "application/vnd.jupyter.widget-view+json": {
              "version_major": 2,
              "version_minor": 0,
              "model_id": "6395acc8ce0f4730a084db76dcc2a4a8"
            }
          },
          "metadata": {}
        },
        {
          "output_type": "stream",
          "name": "stderr",
          "text": [
            "Device set to use cpu\n"
          ]
        }
      ]
    },
    {
      "cell_type": "code",
      "source": [
        "context = \" \".join(retrieve(\"Where is Eiffel Tower?\"))\n",
        "question = \"question: Where is the Eiffel Tower? context: \" + context\n",
        "print(t5(question, max_length=50)[0]['generated_text'])"
      ],
      "metadata": {
        "colab": {
          "base_uri": "https://localhost:8080/"
        },
        "id": "hp9FTs8TdG32",
        "outputId": "a7d8866e-6b07-4be8-f0a6-3e08937a83bc"
      },
      "execution_count": null,
      "outputs": [
        {
          "output_type": "stream",
          "name": "stdout",
          "text": [
            "Paris\n"
          ]
        }
      ]
    },
    {
      "cell_type": "markdown",
      "source": [
        "# **SECTION 7: Exercises**"
      ],
      "metadata": {
        "id": "abxFphbXdSKP"
      }
    },
    {
      "cell_type": "markdown",
      "source": [
        "### 📝 Exercises:\n",
        "1. Replace `t5-small` with `google/flan-t5-base` or `facebook/bart-large`.\n",
        "2. Add more documents and test retrieval diversity.\n",
        "3. Change the retrieval method to cosine similarity.\n",
        "4. Try RAG for multi-question answering."
      ],
      "metadata": {
        "id": "ymAabUySdVIH"
      }
    },
    {
      "cell_type": "markdown",
      "source": [
        "➡️ Coming up in Week 18: Building a Modular RAG System\n",
        "We'll split retriever/generator and add streaming input, chunking, and improved accuracy!"
      ],
      "metadata": {
        "id": "oKeroIoqdc1n"
      }
    }
  ]
}