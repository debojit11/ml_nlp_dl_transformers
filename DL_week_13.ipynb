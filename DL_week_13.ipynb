{
  "nbformat": 4,
  "nbformat_minor": 0,
  "metadata": {
    "colab": {
      "provenance": [],
      "gpuType": "T4",
      "authorship_tag": "ABX9TyNWDaHwAsl3qBy2mpZJIYdy",
      "include_colab_link": true
    },
    "kernelspec": {
      "name": "python3",
      "display_name": "Python 3"
    },
    "language_info": {
      "name": "python"
    },
    "accelerator": "GPU"
  },
  "cells": [
    {
      "cell_type": "markdown",
      "metadata": {
        "id": "view-in-github",
        "colab_type": "text"
      },
      "source": [
        "<a href=\"https://colab.research.google.com/github/debojit11/ml_nlp_dl_transformers/blob/main/DL_week_13.ipynb\" target=\"_parent\"><img src=\"https://colab.research.google.com/assets/colab-badge.svg\" alt=\"Open In Colab\"/></a>"
      ]
    },
    {
      "cell_type": "markdown",
      "source": [
        "# Week 13: RNNs & LSTMs (Sequence Modeling in NLP)"
      ],
      "metadata": {
        "id": "3vWhvBNUanIP"
      }
    },
    {
      "cell_type": "markdown",
      "source": [
        "# **SECTION 1: Welcome & Objectives**"
      ],
      "metadata": {
        "id": "wALIuj3raoQe"
      }
    },
    {
      "cell_type": "code",
      "execution_count": 1,
      "metadata": {
        "colab": {
          "base_uri": "https://localhost:8080/"
        },
        "id": "R_Hm6NLNamhQ",
        "outputId": "539f59fb-654c-49b6-b1e5-70da8b5f576a"
      },
      "outputs": [
        {
          "output_type": "stream",
          "name": "stdout",
          "text": [
            "Welcome to Week 13!\n",
            "This week, you'll:\n",
            "- Learn how RNNs and LSTMs model sequences\n",
            "- Understand why they are useful for NLP tasks\n",
            "- Build a simple LSTM to predict the next word in a sentence\n"
          ]
        }
      ],
      "source": [
        "print(\"Welcome to Week 13!\")\n",
        "print(\"This week, you'll:\")\n",
        "print(\"- Learn how RNNs and LSTMs model sequences\")\n",
        "print(\"- Understand why they are useful for NLP tasks\")\n",
        "print(\"- Build a simple LSTM to predict the next word in a sentence\")"
      ]
    },
    {
      "cell_type": "markdown",
      "source": [
        "# **SECTION 2: What are RNNs & LSTMs?**"
      ],
      "metadata": {
        "id": "H3ocDwsxa26-"
      }
    },
    {
      "cell_type": "markdown",
      "source": [
        "### Why RNNs & LSTMs?\n",
        "In NLP, order matters.\n",
        "Sentences are sequences of words — and each word depends on the previous ones.\n",
        "\n",
        "Unlike traditional models, RNNs and LSTMs maintain a hidden state that carries forward information."
      ],
      "metadata": {
        "id": "ezCT4dhva333"
      }
    },
    {
      "cell_type": "markdown",
      "source": [
        "# 🧠 Week 13 – RNNs & LSTMs for NLP\n",
        "\n",
        "---\n",
        "\n",
        "## 🚀 Why Neural Networks for Sequences?\n",
        "\n",
        "Unlike traditional ML models, neural nets can **learn from sequences**, making them ideal for:\n",
        "\n",
        "- Text generation\n",
        "- Language modeling\n",
        "- Machine translation\n",
        "- Speech recognition\n",
        "\n",
        "---\n",
        "\n",
        "## 🔁 Recurrent Neural Networks (RNNs)\n",
        "\n",
        "RNNs are designed to handle **sequential data** by maintaining a **hidden state** that gets updated at each time step.\n",
        "\n",
        "Imagine reading a sentence word by word — RNNs \"remember\" the context as they read.\n",
        "\n",
        "---\n",
        "\n",
        "## 🔧 How RNNs Work\n",
        "\n",
        "At time step $( t $):\n",
        "\n",
        "- Input: $( x_t $)\n",
        "- Previous hidden state: $( h_{t-1} $)\n",
        "- Output: $( h_t = \\tanh(Wx_t + Uh_{t-1} + b) $)\n",
        "\n",
        "They share weights across time, allowing them to process any length of input!\n",
        "\n",
        "---\n",
        "\n",
        "## 🧨 Problem: Vanishing Gradients\n",
        "\n",
        "RNNs struggle to learn **long-term dependencies** — gradients shrink during backpropagation.\n",
        "\n",
        "---\n",
        "\n",
        "## 💡 LSTM to the Rescue\n",
        "\n",
        "LSTMs (Long Short-Term Memory networks) are a special kind of RNN that can **learn long-term dependencies** using gates:\n",
        "\n",
        "- **Forget Gate**: What to forget\n",
        "- **Input Gate**: What new info to add\n",
        "- **Output Gate**: What to output\n",
        "\n",
        "They maintain a **cell state** that flows with minimal modification.\n",
        "\n",
        "---\n",
        "\n",
        "## 🧠 LSTM Cell Diagram\n",
        "\n",
        "```\n",
        "               Forget Gate     Input Gate      Output Gate\n",
        "                   |               |                 |\n",
        " h(t-1), x(t) ---> o ---> tanh --> o ---> tanh --> o ---> h(t)\n",
        "                   |                              /\n",
        "                   |---------------------------->\n",
        "                            Cell State\n",
        "```\n",
        "\n",
        "---\n",
        "\n",
        "## ✍️ Example: Predict Next Word\n",
        "\n",
        "Toy corpus: `\"hello how are you hello how is\"`\n",
        "\n",
        "We’ll train an LSTM to predict the next word given a sequence:\n",
        "\n",
        "- `hello how → are`\n",
        "- `how are → you`\n",
        "\n",
        "This is called a **language model**.\n",
        "\n",
        "---\n",
        "\n",
        "## ⚙️ Code Breakdown\n",
        "\n",
        "- Tokenize text\n",
        "- Create input-output pairs (sequence to next word)\n",
        "- Use an embedding layer + LSTM + dense output\n",
        "- Predict next word\n",
        "\n",
        "---\n"
      ],
      "metadata": {
        "id": "bMc0b7YNbp6D"
      }
    },
    {
      "cell_type": "markdown",
      "source": [
        "# **SECTION 3: Simple Token Sequence Example**"
      ],
      "metadata": {
        "id": "SB_xoZAMa56e"
      }
    },
    {
      "cell_type": "code",
      "source": [
        "import torch\n",
        "import torch.nn as nn\n",
        "import torch.nn.functional as F\n",
        "import numpy as np"
      ],
      "metadata": {
        "id": "nVZYDyw9a8gA"
      },
      "execution_count": 2,
      "outputs": []
    },
    {
      "cell_type": "code",
      "source": [
        "# Toy corpus: \"hello how are you hello how is\"\n",
        "# Goal: given \"hello how\", predict \"are\" or \"is\"\n",
        "corpus = \"hello how are you hello how is\"\n",
        "vocab = list(set(corpus.split()))\n",
        "vocab_size = len(vocab)\n",
        "word2idx = {w: i for i, w in enumerate(vocab)}\n",
        "idx2word = {i: w for w, i in word2idx.items()}\n"
      ],
      "metadata": {
        "id": "9yoAZgjda-OA"
      },
      "execution_count": 3,
      "outputs": []
    },
    {
      "cell_type": "code",
      "source": [
        "# Prepare dataset\n",
        "sequence_length = 2\n",
        "data = []\n",
        "words = corpus.split()\n",
        "for i in range(len(words) - sequence_length):\n",
        "    seq = words[i:i+sequence_length]\n",
        "    target = words[i+sequence_length]\n",
        "    data.append((seq, target))"
      ],
      "metadata": {
        "id": "chPS4ypebAgI"
      },
      "execution_count": 4,
      "outputs": []
    },
    {
      "cell_type": "code",
      "source": [
        "# Convert to tensors\n",
        "def vectorize(seq):\n",
        "    return torch.tensor([word2idx[w] for w in seq], dtype=torch.long)"
      ],
      "metadata": {
        "id": "N7W9YDMMbC6I"
      },
      "execution_count": 5,
      "outputs": []
    },
    {
      "cell_type": "code",
      "source": [
        "def get_batch():\n",
        "    inputs = torch.stack([vectorize(x) for x, y in data])\n",
        "    targets = torch.tensor([word2idx[y] for x, y in data], dtype=torch.long)\n",
        "    return inputs, targets\n",
        "\n",
        "X, y = get_batch()"
      ],
      "metadata": {
        "id": "78tvjlq7bFG5"
      },
      "execution_count": 6,
      "outputs": []
    },
    {
      "cell_type": "markdown",
      "source": [
        "# **SECTION 4: Build a Simple LSTM Model**"
      ],
      "metadata": {
        "id": "BCbCT7BQbI-p"
      }
    },
    {
      "cell_type": "code",
      "source": [
        "class NextWordPredictor(nn.Module):\n",
        "    def __init__(self, vocab_size, embed_dim, hidden_dim):\n",
        "        super().__init__()\n",
        "        self.embedding = nn.Embedding(vocab_size, embed_dim)\n",
        "        self.lstm = nn.LSTM(embed_dim, hidden_dim, batch_first=True)\n",
        "        self.fc = nn.Linear(hidden_dim, vocab_size)\n",
        "\n",
        "    def forward(self, x):\n",
        "        x = self.embedding(x)\n",
        "        _, (h_n, _) = self.lstm(x)\n",
        "        out = self.fc(h_n[-1])\n",
        "        return out"
      ],
      "metadata": {
        "id": "pNd16ujUbHM4"
      },
      "execution_count": 7,
      "outputs": []
    },
    {
      "cell_type": "code",
      "source": [
        "model = NextWordPredictor(vocab_size, embed_dim=10, hidden_dim=20)\n",
        "loss_fn = nn.CrossEntropyLoss()\n",
        "optimizer = torch.optim.Adam(model.parameters(), lr=0.01)"
      ],
      "metadata": {
        "id": "7Qwt5CLzbL64"
      },
      "execution_count": 8,
      "outputs": []
    },
    {
      "cell_type": "markdown",
      "source": [
        "# **SECTION 5: Training**"
      ],
      "metadata": {
        "id": "9kjOp6otbQlB"
      }
    },
    {
      "cell_type": "code",
      "source": [
        "for epoch in range(300):\n",
        "    optimizer.zero_grad()\n",
        "    out = model(X)\n",
        "    loss = loss_fn(out, y)\n",
        "    loss.backward()\n",
        "    optimizer.step()\n",
        "    if epoch % 50 == 0:\n",
        "        print(f\"Epoch {epoch}, Loss: {loss.item():.4f}\")"
      ],
      "metadata": {
        "colab": {
          "base_uri": "https://localhost:8080/"
        },
        "id": "C8grriQBbN8K",
        "outputId": "946fb3ac-6135-4e06-d0cb-90773f782afa"
      },
      "execution_count": 9,
      "outputs": [
        {
          "output_type": "stream",
          "name": "stdout",
          "text": [
            "Epoch 0, Loss: 1.6239\n",
            "Epoch 50, Loss: 0.2822\n",
            "Epoch 100, Loss: 0.2792\n",
            "Epoch 150, Loss: 0.2785\n",
            "Epoch 200, Loss: 0.2781\n",
            "Epoch 250, Loss: 0.2779\n"
          ]
        }
      ]
    },
    {
      "cell_type": "markdown",
      "source": [
        "# **SECTION 6: Test the Model**"
      ],
      "metadata": {
        "id": "TdkF85RXbWZa"
      }
    },
    {
      "cell_type": "code",
      "source": [
        "def predict_next(words):\n",
        "    input_tensor = vectorize(words).unsqueeze(0)  # Add batch dim\n",
        "    output = model(input_tensor)\n",
        "    predicted_idx = torch.argmax(output, dim=1).item()\n",
        "    return idx2word[predicted_idx]\n",
        "\n",
        "print(\"Test: hello how ->\", predict_next([\"hello\", \"how\"]))\n",
        "print(\"Test: how are ->\", predict_next([\"how\", \"are\"]))\n",
        "print(\"Test: how is ->\", predict_next([\"how\", \"is\"]))"
      ],
      "metadata": {
        "colab": {
          "base_uri": "https://localhost:8080/"
        },
        "id": "xB_ZRKL-bTLa",
        "outputId": "8d31808c-fa3a-438c-cb62-2566a388b9d8"
      },
      "execution_count": 10,
      "outputs": [
        {
          "output_type": "stream",
          "name": "stdout",
          "text": [
            "Test: hello how -> is\n",
            "Test: how are -> you\n",
            "Test: how is -> you\n"
          ]
        }
      ]
    },
    {
      "cell_type": "markdown",
      "source": [
        "## 🧠 Why This Matters in NLP\n",
        "\n",
        "LSTMs are used in:\n",
        "\n",
        "| Task                  | Role of LSTM                        |\n",
        "|-----------------------|--------------------------------------|\n",
        "| Language Modeling     | Predict next word in a sentence     |\n",
        "| Text Generation       | Generate text one word at a time    |\n",
        "| Named Entity Recognition | Label each token in a sequence   |\n",
        "| Machine Translation   | Encode source → Decode target       |\n",
        "\n",
        "---\n",
        "\n",
        "## ✅ Pros of LSTM\n",
        "\n",
        "- Learns long-term dependencies\n",
        "- Good for sequential data\n",
        "- Better than vanilla RNNs for text\n",
        "\n",
        "## ⚠️ Limitations\n",
        "\n",
        "- Sequential → slow to train\n",
        "- Hard to parallelize\n",
        "- Still can struggle with very long texts\n",
        "\n",
        "---\n",
        "\n",
        "## 🔮 What’s Next?\n",
        "\n",
        "In Week 14, we’ll introduce **word embeddings** like **Word2Vec and GloVe**, which encode words into dense vectors capturing semantic meaning — a game changer for NLP!\n",
        "\n",
        "Stay tuned 👇\n",
        "\n",
        "➡️ Week 14: Word Embeddings 🔤📐\n"
      ],
      "metadata": {
        "id": "oYPCladFbzjs"
      }
    },
    {
      "cell_type": "markdown",
      "source": [
        "# **SECTION 7: What’s Coming Next?**"
      ],
      "metadata": {
        "id": "WagbDdY2bfpy"
      }
    },
    {
      "cell_type": "markdown",
      "source": [
        "### Coming Up: Week 14 - Word Embeddings\n",
        "Now that you’ve built your first LSTM...\n",
        "➡️ Next week, we’ll dive into **Word Embeddings** (Word2Vec, GloVe) to represent words in dense, meaningful vector spaces.\n",
        "These are critical to feeding real-world NLP data into deep models 🔍🧠"
      ],
      "metadata": {
        "id": "upgKm4YNbgpD"
      }
    }
  ]
}