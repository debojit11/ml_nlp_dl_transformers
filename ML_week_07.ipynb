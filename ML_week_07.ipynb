{
  "nbformat": 4,
  "nbformat_minor": 0,
  "metadata": {
    "colab": {
      "provenance": [],
      "authorship_tag": "ABX9TyMHTDDI2wXlPFf4pkZGJ7tD",
      "include_colab_link": true
    },
    "kernelspec": {
      "name": "python3",
      "display_name": "Python 3"
    },
    "language_info": {
      "name": "python"
    }
  },
  "cells": [
    {
      "cell_type": "markdown",
      "metadata": {
        "id": "view-in-github",
        "colab_type": "text"
      },
      "source": [
        "<a href=\"https://colab.research.google.com/github/debojit11/ml_nlp_dl_transformers/blob/main/ML_week_07.ipynb\" target=\"_parent\"><img src=\"https://colab.research.google.com/assets/colab-badge.svg\" alt=\"Open In Colab\"/></a>"
      ]
    },
    {
      "cell_type": "markdown",
      "source": [
        "# Week 7: Support Vector Machines (SVMs)"
      ],
      "metadata": {
        "id": "cz9SWKmOsXFz"
      }
    },
    {
      "cell_type": "markdown",
      "source": [
        "# **SECTION 1: Welcome & Objectives**"
      ],
      "metadata": {
        "id": "k3c0wBK7saXB"
      }
    },
    {
      "cell_type": "code",
      "execution_count": 1,
      "metadata": {
        "colab": {
          "base_uri": "https://localhost:8080/"
        },
        "id": "y7ry63wqsIOq",
        "outputId": "f41cbe0c-e32b-4494-b4ca-ca6573140d23"
      },
      "outputs": [
        {
          "output_type": "stream",
          "name": "stdout",
          "text": [
            "Welcome to Week 7!\n",
            "This week, you'll:\n",
            "- Understand how Support Vector Machines (SVMs) work\n",
            "- Learn about decision boundaries and the margin maximization principle\n",
            "- Compare SVM with previous models like KNN and Logistic Regression\n"
          ]
        }
      ],
      "source": [
        "print(\"Welcome to Week 7!\")\n",
        "print(\"This week, you'll:\")\n",
        "print(\"- Understand how Support Vector Machines (SVMs) work\")\n",
        "print(\"- Learn about decision boundaries and the margin maximization principle\")\n",
        "print(\"- Compare SVM with previous models like KNN and Logistic Regression\")"
      ]
    },
    {
      "cell_type": "markdown",
      "source": [
        "# **SECTION 2: Why SVM?**"
      ],
      "metadata": {
        "id": "m4HSWFMAsjED"
      }
    },
    {
      "cell_type": "markdown",
      "source": [
        "### Why SVM?\n",
        "Support Vector Machines are powerful classifiers that find the **optimal boundary** between classes.\n",
        "\n",
        "They aim to:\n",
        "- **Maximize the margin** between classes.\n",
        "- Use only the **most important points** (support vectors).\n",
        "- Work well even in high-dimensional spaces like text.\n",
        "\n",
        "➡️ SVMs are like finding the line that best separates your data with the **widest possible gap**."
      ],
      "metadata": {
        "id": "Zl7tgO9GskkT"
      }
    },
    {
      "cell_type": "markdown",
      "source": [
        "# **SECTION 3: Reuse SMS Spam Dataset**"
      ],
      "metadata": {
        "id": "UGq1j4DdsrdT"
      }
    },
    {
      "cell_type": "code",
      "source": [
        "import pandas as pd\n",
        "from sklearn.model_selection import train_test_split\n",
        "from sklearn.feature_extraction.text import TfidfVectorizer"
      ],
      "metadata": {
        "id": "UiQYWqY7sfCk"
      },
      "execution_count": 2,
      "outputs": []
    },
    {
      "cell_type": "code",
      "source": [
        "url = \"https://raw.githubusercontent.com/justmarkham/pycon-2016-tutorial/master/data/sms.tsv\"\n",
        "data = pd.read_csv(url, sep='\\t', names=[\"label\", \"message\"])\n",
        "data['label_num'] = data['label'].map({'ham': 0, 'spam': 1})"
      ],
      "metadata": {
        "id": "FlkDbyZesuKt"
      },
      "execution_count": 3,
      "outputs": []
    },
    {
      "cell_type": "code",
      "source": [
        "vectorizer = TfidfVectorizer()\n",
        "X = vectorizer.fit_transform(data['message'])\n",
        "y = data['label_num']\n",
        "X_train, X_test, y_train, y_test = train_test_split(X, y, test_size=0.2, random_state=42)"
      ],
      "metadata": {
        "id": "O9yUCQwdswnM"
      },
      "execution_count": 4,
      "outputs": []
    },
    {
      "cell_type": "markdown",
      "source": [
        "# 🧪 Week 7 – Support Vector Machines (SVMs)\n",
        "\n",
        "---\n",
        "\n",
        "## 🤔 Why Not Just Use KNN or Logistic Regression?\n",
        "\n",
        "- KNN is simple, but slow and sensitive to scaling.\n",
        "- Logistic Regression assumes linear separability.\n",
        "\n",
        "➡️ What if we could **find the optimal boundary** between classes?\n",
        "\n",
        "---\n",
        "\n",
        "## 📍 Enter Support Vector Machines\n",
        "\n",
        "### 🌟 Core Idea:\n",
        "- SVM tries to draw the **widest possible margin** between classes.\n",
        "- It only relies on a few **support vectors** — the most critical points.\n",
        "\n",
        "> Think of placing a wide street between two groups of people without anyone getting hit — that’s SVM.\n",
        "\n",
        "---\n",
        "\n",
        "### ✏️ Margin Intuition\n",
        "\n",
        "- Decision boundary is based on maximizing the margin between classes.\n",
        "- `C` controls the **tradeoff** between margin size and misclassification.\n",
        "\n",
        "---\n",
        "\n",
        "### ⚙️ Kernels = Feature Expansion\n",
        "\n",
        "SVMs can also learn **non-linear** patterns using **kernels**:\n",
        "\n",
        "- `linear`: plain hyperplane\n",
        "- `rbf`: radial basis — learns curves\n",
        "- `poly`: polynomial features\n",
        "\n",
        "---"
      ],
      "metadata": {
        "id": "W-gGhQ-Ys2CU"
      }
    },
    {
      "cell_type": "markdown",
      "source": [
        "# **SECTION 4: Train SVM Model**"
      ],
      "metadata": {
        "id": "VN6-Skors00M"
      }
    },
    {
      "cell_type": "code",
      "source": [
        "from sklearn.svm import SVC\n",
        "from sklearn.metrics import classification_report"
      ],
      "metadata": {
        "id": "AVQm1U__syaV"
      },
      "execution_count": 5,
      "outputs": []
    },
    {
      "cell_type": "code",
      "source": [
        "svm = SVC(kernel='linear', probability=True)\n",
        "svm.fit(X_train, y_train)\n",
        "y_pred_svm = svm.predict(X_test)"
      ],
      "metadata": {
        "id": "bqaLBqjrs6su"
      },
      "execution_count": 6,
      "outputs": []
    },
    {
      "cell_type": "code",
      "source": [
        "print(\"--- SVM (Linear Kernel) ---\")\n",
        "print(classification_report(y_test, y_pred_svm))"
      ],
      "metadata": {
        "colab": {
          "base_uri": "https://localhost:8080/"
        },
        "id": "0UPSLtMOtLxe",
        "outputId": "4194c54c-46eb-4882-f785-a42bf37c41e0"
      },
      "execution_count": 7,
      "outputs": [
        {
          "output_type": "stream",
          "name": "stdout",
          "text": [
            "--- SVM (Linear Kernel) ---\n",
            "              precision    recall  f1-score   support\n",
            "\n",
            "           0       0.99      1.00      0.99       966\n",
            "           1       1.00      0.93      0.96       149\n",
            "\n",
            "    accuracy                           0.99      1115\n",
            "   macro avg       0.99      0.96      0.98      1115\n",
            "weighted avg       0.99      0.99      0.99      1115\n",
            "\n"
          ]
        }
      ]
    },
    {
      "cell_type": "markdown",
      "source": [
        "## 📊 Evaluation Toolkit\n",
        "\n",
        "We again use:\n",
        "- Confusion matrix\n",
        "- Precision, Recall, F1\n",
        "- ROC + AUC\n",
        "\n",
        "Same toolkit, new classifier!\n",
        "\n",
        "---"
      ],
      "metadata": {
        "id": "OLHTtdRds_l-"
      }
    },
    {
      "cell_type": "markdown",
      "source": [
        "# **SECTION 5: Evaluation – Confusion Matrix & ROC Curve**"
      ],
      "metadata": {
        "id": "_1Lh31QdtQGf"
      }
    },
    {
      "cell_type": "code",
      "source": [
        "import seaborn as sns\n",
        "import matplotlib.pyplot as plt\n",
        "from sklearn.metrics import confusion_matrix, ConfusionMatrixDisplay, roc_curve, roc_auc_score"
      ],
      "metadata": {
        "id": "OekQDncktRqH"
      },
      "execution_count": 8,
      "outputs": []
    },
    {
      "cell_type": "markdown",
      "source": [
        "## Confusion matrix"
      ],
      "metadata": {
        "id": "8GAL_Lo8tWC4"
      }
    },
    {
      "cell_type": "code",
      "source": [
        "cm = confusion_matrix(y_test, y_pred_svm)\n",
        "ConfusionMatrixDisplay(cm, display_labels=['Ham', 'Spam']).plot()\n",
        "plt.title(\"Confusion Matrix - SVM\")\n",
        "plt.show()"
      ],
      "metadata": {
        "colab": {
          "base_uri": "https://localhost:8080/",
          "height": 472
        },
        "id": "iZG2OOi4tT33",
        "outputId": "05dc88bb-e86b-4db4-bfe4-419371262a8a"
      },
      "execution_count": 9,
      "outputs": [
        {
          "output_type": "display_data",
          "data": {
            "text/plain": [
              "<Figure size 640x480 with 2 Axes>"
            ],
            "image/png": "[encoded data removed]"
          },
          "metadata": {}
        }
      ]
    },
    {
      "cell_type": "markdown",
      "source": [
        "## ROC curve"
      ],
      "metadata": {
        "id": "opVFSOT3tbRQ"
      }
    },
    {
      "cell_type": "code",
      "source": [
        "y_probs = svm.predict_proba(X_test)[:, 1]\n",
        "fpr, tpr, thresholds = roc_curve(y_test, y_probs)\n",
        "auc_score = roc_auc_score(y_test, y_probs)"
      ],
      "metadata": {
        "id": "Lb4OOyHdtdBZ"
      },
      "execution_count": 10,
      "outputs": []
    },
    {
      "cell_type": "code",
      "source": [
        "plt.plot(fpr, tpr, label=f\"AUC = {auc_score:.2f}\")\n",
        "plt.plot([0, 1], [0, 1], linestyle=\"--\", color=\"gray\")\n",
        "plt.xlabel(\"False Positive Rate\")\n",
        "plt.ylabel(\"True Positive Rate\")\n",
        "plt.title(\"ROC Curve - SVM\")\n",
        "plt.legend()\n",
        "plt.grid(True)\n",
        "plt.show()"
      ],
      "metadata": {
        "colab": {
          "base_uri": "https://localhost:8080/",
          "height": 472
        },
        "id": "mvQaVBM2tgI5",
        "outputId": "b50fd218-4158-4369-f40d-15671b7480e6"
      },
      "execution_count": 11,
      "outputs": [
        {
          "output_type": "display_data",
          "data": {
            "text/plain": [
              "<Figure size 640x480 with 1 Axes>"
            ],
            "image/png": "[encoded data removed]"
          },
          "metadata": {}
        }
      ]
    },
    {
      "cell_type": "markdown",
      "source": [
        "### 🧠 TL;DR\n",
        "\n",
        "| Model        | Strengths                         | Weaknesses                        |\n",
        "|--------------|----------------------------------|-----------------------------------|\n",
        "| KNN          | Intuitive, non-parametric        | Slow at test time, sensitive to noise |\n",
        "| Logistic Reg | Fast, interpretable              | Struggles with complex boundaries |\n",
        "| SVM          | Great in high dimensions, robust | Needs tuning, can be slow with large data |\n",
        "\n",
        "---\n",
        "\n",
        "You now know how SVM finds the **most confident boundaries** by maximizing separation.  \n",
        "Next week, we dive into **Boosting**, where we combine many weak learners into one strong model ⚡🌲\n"
      ],
      "metadata": {
        "id": "vRSLeBoZs9hd"
      }
    },
    {
      "cell_type": "markdown",
      "source": [
        "# **SECTION 6: What’s Coming Next?**"
      ],
      "metadata": {
        "id": "-4iqFxxYtkvZ"
      }
    },
    {
      "cell_type": "markdown",
      "source": [
        "### What’s Next in Week 8?\n",
        "You've seen how a margin-based classifier like SVM can perform well in high-dimensional spaces.\n",
        "\n",
        "➡️ Next week, we explore **boosting methods**:  \n",
        "We’ll learn how **Gradient Boosting** and **XGBoost** build strong models from many weak ones 🌲⚡"
      ],
      "metadata": {
        "id": "a3GS7keetmmB"
      }
    },
    {
      "cell_type": "markdown",
      "source": [
        "# **SECTION 7: Exercises**"
      ],
      "metadata": {
        "id": "dOPTyIC9tqkJ"
      }
    },
    {
      "cell_type": "markdown",
      "source": [
        "### Exercises:\n",
        "1. Try using different kernels like `'rbf'` or `'poly'` in `SVC`.\n",
        "2. Change the `C` parameter to see how it affects the margin and performance.\n",
        "3. Compare `LinearSVC` (faster on large text) with `SVC(kernel='linear')`.\n",
        "4. Try `CountVectorizer` instead of `TfidfVectorizer`."
      ],
      "metadata": {
        "id": "nrs5pFwmtrxi"
      }
    }
  ]
}