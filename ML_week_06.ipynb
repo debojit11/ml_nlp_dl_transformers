{
  "nbformat": 4,
  "nbformat_minor": 0,
  "metadata": {
    "colab": {
      "provenance": [],
      "authorship_tag": "ABX9TyM5+ytzrfD7Gc6niIwLx3Wr",
      "include_colab_link": true
    },
    "kernelspec": {
      "name": "python3",
      "display_name": "Python 3"
    },
    "language_info": {
      "name": "python"
    }
  },
  "cells": [
    {
      "cell_type": "markdown",
      "metadata": {
        "id": "view-in-github",
        "colab_type": "text"
      },
      "source": [
        "<a href=\"https://colab.research.google.com/github/debojit11/ml_nlp_dl_transformers/blob/main/ML_week_06.ipynb\" target=\"_parent\"><img src=\"https://colab.research.google.com/assets/colab-badge.svg\" alt=\"Open In Colab\"/></a>"
      ]
    },
    {
      "cell_type": "markdown",
      "source": [
        "# Week 6: K-Nearest Neighbors (KNN)"
      ],
      "metadata": {
        "id": "45qwXaGYnJPJ"
      }
    },
    {
      "cell_type": "markdown",
      "source": [
        "# **SECTION 1: Welcome & Objectives**"
      ],
      "metadata": {
        "id": "tl-V2AWZnK0B"
      }
    },
    {
      "cell_type": "code",
      "execution_count": 1,
      "metadata": {
        "colab": {
          "base_uri": "https://localhost:8080/"
        },
        "id": "OJfK0uBInI5T",
        "outputId": "e4c6baba-2bb5-40f8-9e83-c3beec509179"
      },
      "outputs": [
        {
          "output_type": "stream",
          "name": "stdout",
          "text": [
            "Welcome to Week 6!\n",
            "This week, you'll:\n",
            "- Learn about K-Nearest Neighbors (KNN): a simple yet powerful algorithm\n",
            "- Understand how distance-based classification works\n",
            "- Compare KNN with previous models like Logistic Regression and Random Forest\n"
          ]
        }
      ],
      "source": [
        "print(\"Welcome to Week 6!\")\n",
        "print(\"This week, you'll:\")\n",
        "print(\"- Learn about K-Nearest Neighbors (KNN): a simple yet powerful algorithm\")\n",
        "print(\"- Understand how distance-based classification works\")\n",
        "print(\"- Compare KNN with previous models like Logistic Regression and Random Forest\")"
      ]
    },
    {
      "cell_type": "markdown",
      "source": [
        "# **SECTION 2: Why KNN?**"
      ],
      "metadata": {
        "id": "O8em8AEKnSWr"
      }
    },
    {
      "cell_type": "markdown",
      "source": [
        "### Why KNN?\n",
        "KNN is simple:\n",
        "- No training phase — it memorizes the data.\n",
        "- To predict, it looks at the **K closest examples** and chooses the majority label.\n",
        "\n",
        "➡️ It's like asking your neighbors what they think — and going with the majority."
      ],
      "metadata": {
        "id": "JjtWpEKOnWQr"
      }
    },
    {
      "cell_type": "markdown",
      "source": [
        "# **SECTION 3: Reuse SMS Spam Dataset**"
      ],
      "metadata": {
        "id": "bxZXKa42nZMz"
      }
    },
    {
      "cell_type": "code",
      "source": [
        "import pandas as pd\n",
        "from sklearn.model_selection import train_test_split\n",
        "from sklearn.feature_extraction.text import TfidfVectorizer"
      ],
      "metadata": {
        "id": "un2D8Y2AnQpb"
      },
      "execution_count": 2,
      "outputs": []
    },
    {
      "cell_type": "code",
      "source": [
        "url = \"https://raw.githubusercontent.com/justmarkham/pycon-2016-tutorial/master/data/sms.tsv\"\n",
        "data = pd.read_csv(url, sep='\\t', names=[\"label\", \"message\"])\n",
        "data['label_num'] = data['label'].map({'ham': 0, 'spam': 1})"
      ],
      "metadata": {
        "id": "uv2PnLF8ncMl"
      },
      "execution_count": 3,
      "outputs": []
    },
    {
      "cell_type": "code",
      "source": [
        "vectorizer = TfidfVectorizer()\n",
        "X = vectorizer.fit_transform(data['message'])\n",
        "y = data['label_num']\n",
        "X_train, X_test, y_train, y_test = train_test_split(X, y, test_size=0.2, random_state=42)"
      ],
      "metadata": {
        "id": "pmYWE3VynepD"
      },
      "execution_count": 4,
      "outputs": []
    },
    {
      "cell_type": "markdown",
      "source": [
        "# 🤝 Week 6 – K-Nearest Neighbors (KNN)\n",
        "\n",
        "---\n",
        "\n",
        "### 🚨 Why Not Just Use Logistic Regression or Trees?\n",
        "\n",
        "- Logistic Regression is **linear** — decision boundaries are straight lines.\n",
        "- Trees are **non-linear** but can still be unstable and overfit.\n",
        "  \n",
        "➡️ What if we could just look at similar past examples and **copy their answer**?\n",
        "\n",
        "---\n",
        "\n",
        "## 📍 Enter K-Nearest Neighbors\n",
        "\n",
        "### 🌟 Core Idea:\n",
        "- Store the entire training dataset.\n",
        "- To predict a new point:\n",
        "  - Measure distance to all training points.\n",
        "  - Pick the **k closest points**.\n",
        "  - Take a **majority vote** (classification) or average (regression).\n",
        "\n",
        "> KNN is like asking your neighbors for advice — closest neighbors usually know best.\n",
        "\n",
        "---\n",
        "\n",
        "### 🧮 How It Works\n",
        "\n",
        "1. Choose `k` (number of neighbors).\n",
        "2. Compute distance from the input to every training point.\n",
        "3. Find the `k` nearest ones.\n",
        "4. Return the majority label among them.\n",
        "\n",
        "---\n",
        "\n",
        "### 📐 Math (Distance Intuition)\n",
        "\n",
        "Common distance metrics:\n",
        "- **Euclidean (default)**:  \n",
        "  $$\n",
        "  d(x, y) = \\sqrt{\\sum_{i=1}^{n}(x_i - y_i)^2}\n",
        "  $$\n",
        "- **Manhattan**:  \n",
        "  $$\n",
        "  d(x, y) = \\sum_{i=1}^{n}|x_i - y_i|\n",
        "  $$\n",
        "- **Cosine similarity** (good for text):  \n",
        "  $$\n",
        "  \\text{cos}(x, y) = \\frac{x \\cdot y}{\\|x\\|\\|y\\|}\n",
        "  $$\n",
        "\n",
        "---\n",
        "\n",
        "### 🤔 Choosing K\n",
        "\n",
        "- Small `k`: Model is flexible, but may overfit.\n",
        "- Large `k`: More stable, but can underfit.\n",
        "\n",
        "> Try `k = 3, 5, 7, 10` and compare results.\n",
        "\n",
        "---"
      ],
      "metadata": {
        "id": "pcOmJWAJniAT"
      }
    },
    {
      "cell_type": "markdown",
      "source": [
        "# **SECTION 4: Train KNN Model**"
      ],
      "metadata": {
        "id": "e7MCEv08n8Me"
      }
    },
    {
      "cell_type": "code",
      "source": [
        "from sklearn.neighbors import KNeighborsClassifier\n",
        "from sklearn.metrics import classification_report"
      ],
      "metadata": {
        "id": "yOQEZ1mTnhTb"
      },
      "execution_count": 5,
      "outputs": []
    },
    {
      "cell_type": "code",
      "source": [
        "knn = KNeighborsClassifier(n_neighbors=5)\n",
        "knn.fit(X_train, y_train)\n",
        "y_pred_knn = knn.predict(X_test)"
      ],
      "metadata": {
        "id": "mZLS-XYpn3i2"
      },
      "execution_count": 6,
      "outputs": []
    },
    {
      "cell_type": "code",
      "source": [
        "print(\"--- KNN (k=5) ---\")\n",
        "print(classification_report(y_test, y_pred_knn))"
      ],
      "metadata": {
        "colab": {
          "base_uri": "https://localhost:8080/"
        },
        "id": "qu3_5LhZoFH4",
        "outputId": "f9b2dfe0-e06f-4796-cb82-f0f815ff00d6"
      },
      "execution_count": 7,
      "outputs": [
        {
          "output_type": "stream",
          "name": "stdout",
          "text": [
            "--- KNN (k=5) ---\n",
            "              precision    recall  f1-score   support\n",
            "\n",
            "           0       0.91      1.00      0.95       966\n",
            "           1       1.00      0.36      0.53       149\n",
            "\n",
            "    accuracy                           0.91      1115\n",
            "   macro avg       0.96      0.68      0.74      1115\n",
            "weighted avg       0.92      0.91      0.90      1115\n",
            "\n"
          ]
        }
      ]
    },
    {
      "cell_type": "markdown",
      "source": [
        "\n",
        "## 📊 Model Evaluation – Same Toolkit\n",
        "\n",
        "We use:\n",
        "- **Confusion matrix**\n",
        "- **Precision, Recall, F1**\n",
        "- **ROC Curve + AUC**\n",
        "\n",
        "These help us understand how good our KNN model really is.\n",
        "\n",
        "---"
      ],
      "metadata": {
        "id": "uYUACfZdn37W"
      }
    },
    {
      "cell_type": "markdown",
      "source": [
        "# **SECTION 5: Evaluation – Confusion Matrix & ROC Curve**"
      ],
      "metadata": {
        "id": "JAVDNGkdoM1P"
      }
    },
    {
      "cell_type": "code",
      "source": [
        "import seaborn as sns\n",
        "import matplotlib.pyplot as plt\n",
        "from sklearn.metrics import confusion_matrix, ConfusionMatrixDisplay, roc_curve, roc_auc_score"
      ],
      "metadata": {
        "id": "QqWt_PEroLLh"
      },
      "execution_count": 8,
      "outputs": []
    },
    {
      "cell_type": "markdown",
      "source": [
        "## Confusion matrix"
      ],
      "metadata": {
        "id": "OKu2oBzeoSDw"
      }
    },
    {
      "cell_type": "code",
      "source": [
        "cm = confusion_matrix(y_test, y_pred_knn)\n",
        "ConfusionMatrixDisplay(cm, display_labels=['Ham', 'Spam']).plot()\n",
        "plt.title(\"Confusion Matrix - KNN\")\n",
        "plt.show()"
      ],
      "metadata": {
        "colab": {
          "base_uri": "https://localhost:8080/",
          "height": 472
        },
        "id": "PfgLsGCtoP8g",
        "outputId": "4dad9ce6-6e6e-43ba-c73a-7fa9bb41f7e9"
      },
      "execution_count": 9,
      "outputs": [
        {
          "output_type": "display_data",
          "data": {
            "text/plain": [
              "<Figure size 640x480 with 2 Axes>"
            ],
            "image/png": "[encoded data removed]"
          },
          "metadata": {}
        }
      ]
    },
    {
      "cell_type": "markdown",
      "source": [
        "## ROC curve"
      ],
      "metadata": {
        "id": "g781mRsDoZKR"
      }
    },
    {
      "cell_type": "code",
      "source": [
        "y_probs = knn.predict_proba(X_test)[:, 1]\n",
        "fpr, tpr, thresholds = roc_curve(y_test, y_probs)\n",
        "auc_score = roc_auc_score(y_test, y_probs)"
      ],
      "metadata": {
        "id": "4BtSDx-7oVnp"
      },
      "execution_count": 10,
      "outputs": []
    },
    {
      "cell_type": "code",
      "source": [
        "plt.plot(fpr, tpr, label=f\"AUC = {auc_score:.2f}\")\n",
        "plt.plot([0, 1], [0, 1], linestyle=\"--\", color=\"gray\")\n",
        "plt.xlabel(\"False Positive Rate\")\n",
        "plt.ylabel(\"True Positive Rate\")\n",
        "plt.title(\"ROC Curve - KNN\")\n",
        "plt.legend()\n",
        "plt.grid(True)\n",
        "plt.show()"
      ],
      "metadata": {
        "colab": {
          "base_uri": "https://localhost:8080/",
          "height": 472
        },
        "id": "MWp7fI1ZocZR",
        "outputId": "60ff91af-df1b-4264-ecf3-a81df76fd89c"
      },
      "execution_count": 11,
      "outputs": [
        {
          "output_type": "display_data",
          "data": {
            "text/plain": [
              "<Figure size 640x480 with 1 Axes>"
            ],
            "image/png": "[encoded data removed]"
          },
          "metadata": {}
        }
      ]
    },
    {
      "cell_type": "markdown",
      "source": [
        "\n",
        "### 🧠 TL;DR\n",
        "\n",
        "| Model              | Strengths                         | Weaknesses                   |\n",
        "|--------------------|------------------------------------|-------------------------------|\n",
        "| Logistic Regression| Simple, fast                      | Assumes linear boundaries     |\n",
        "| Decision Trees     | Non-linear, interpretable         | Overfits easily               |\n",
        "| Random Forest      | Robust, strong ensemble           | Slower, harder to explain     |\n",
        "| KNN                | Very intuitive, no training needed| Slow on large datasets, sensitive to scale |\n",
        "\n",
        "---\n",
        "\n",
        "You now know one of the most **intuitive ML models** that makes decisions based on **similarity**.  \n",
        "Next week, we’ll enter the world of **Support Vector Machines (SVM)** — where we **draw optimal boundaries** between classes using the power of geometry and margins 📐🧠"
      ],
      "metadata": {
        "id": "huXAvy2ho3bk"
      }
    },
    {
      "cell_type": "markdown",
      "source": [
        "# **SECTION 6: What’s Coming Next?**"
      ],
      "metadata": {
        "id": "4RnD0PVkoh5r"
      }
    },
    {
      "cell_type": "markdown",
      "source": [
        "### What’s Next in Week 7?\n",
        "Now you’ve seen how models like KNN can classify just by comparing neighbors.\n",
        "\n",
        "➡️ Next week, we’ll explore **Support Vector Machines (SVMs)** — a powerful technique that tries to draw the **best boundary** between classes using margins.\n",
        "\n",
        "We’ll see how it handles both **linear and non-linear** cases and compare it to models we've used so far."
      ],
      "metadata": {
        "id": "8oJrghCkojQq"
      }
    },
    {
      "cell_type": "markdown",
      "source": [
        "# **SECTION 7: Exercises**"
      ],
      "metadata": {
        "id": "zXTGhVPmoqtj"
      }
    },
    {
      "cell_type": "markdown",
      "source": [
        "### Exercises:\n",
        "1. Try different values of `k` like 3, 7, or 10 and compare performance.\n",
        "2. Use `CountVectorizer` instead of `TfidfVectorizer`.\n",
        "3. Explore different distance metrics using `metric='manhattan'` or `metric='cosine'`.\n",
        "4. Visualize the ROC curve for different values of `k`."
      ],
      "metadata": {
        "id": "lj39V82Qot2j"
      }
    }
  ]
}