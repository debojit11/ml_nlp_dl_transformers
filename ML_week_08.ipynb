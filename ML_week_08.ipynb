{
  "nbformat": 4,
  "nbformat_minor": 0,
  "metadata": {
    "colab": {
      "provenance": [],
      "authorship_tag": "ABX9TyPPzwwPUE11xofr7BLcimmi",
      "include_colab_link": true
    },
    "kernelspec": {
      "name": "python3",
      "display_name": "Python 3"
    },
    "language_info": {
      "name": "python"
    }
  },
  "cells": [
    {
      "cell_type": "markdown",
      "metadata": {
        "id": "view-in-github",
        "colab_type": "text"
      },
      "source": [
        "<a href=\"https://colab.research.google.com/github/debojit11/ml_nlp_dl_transformers/blob/main/ML_week_08.ipynb\" target=\"_parent\"><img src=\"https://colab.research.google.com/assets/colab-badge.svg\" alt=\"Open In Colab\"/></a>"
      ]
    },
    {
      "cell_type": "markdown",
      "source": [
        "# SECTION 1: Welcome & Objectives"
      ],
      "metadata": {
        "id": "7SI79vz9wf9D"
      }
    },
    {
      "cell_type": "code",
      "execution_count": 1,
      "metadata": {
        "colab": {
          "base_uri": "https://localhost:8080/"
        },
        "id": "UAHcQKQCwfXr",
        "outputId": "684ce519-2a96-4890-8b2f-0765cf9ef1d5"
      },
      "outputs": [
        {
          "output_type": "stream",
          "name": "stdout",
          "text": [
            "Welcome to Week 8!\n",
            "This week, you'll:\n",
            "- Understand the idea behind Gradient Boosting\n",
            "- Implement a boosting model using sklearn\n",
            "- Train a more optimized version with XGBoost\n",
            "- Compare performance against Random Forests and KNN\n"
          ]
        }
      ],
      "source": [
        "print(\"Welcome to Week 8!\")\n",
        "print(\"This week, you'll:\")\n",
        "print(\"- Understand the idea behind Gradient Boosting\")\n",
        "print(\"- Implement a boosting model using sklearn\")\n",
        "print(\"- Train a more optimized version with XGBoost\")\n",
        "print(\"- Compare performance against Random Forests and KNN\")"
      ]
    },
    {
      "cell_type": "markdown",
      "source": [
        "# **SECTION 2: What is Boosting?**"
      ],
      "metadata": {
        "id": "X6AIdbdMwmX9"
      }
    },
    {
      "cell_type": "markdown",
      "source": [
        "### What is Boosting?\n",
        "\n",
        "Boosting combines **multiple weak learners** (usually shallow decision trees) into a **stronger model**.\n",
        "\n",
        "- Each new model focuses on the **mistakes** of the previous one.\n",
        "- Models are added **sequentially** to correct errors step-by-step.\n",
        "\n",
        "➡️ Think of it as a relay team: each member picks up where the last one struggled."
      ],
      "metadata": {
        "id": "Xr_FskK4wn-k"
      }
    },
    {
      "cell_type": "markdown",
      "source": [
        "# **SECTION 3: Load Dataset – Reuse SMS Spam Example**"
      ],
      "metadata": {
        "id": "54Dssm5GwroM"
      }
    },
    {
      "cell_type": "code",
      "source": [
        "import pandas as pd\n",
        "from sklearn.model_selection import train_test_split\n",
        "from sklearn.feature_extraction.text import TfidfVectorizer"
      ],
      "metadata": {
        "id": "mpOg2vg9wkFl"
      },
      "execution_count": 2,
      "outputs": []
    },
    {
      "cell_type": "code",
      "source": [
        "url = \"https://raw.githubusercontent.com/justmarkham/pycon-2016-tutorial/master/data/sms.tsv\"\n",
        "data = pd.read_csv(url, sep='\\t', names=[\"label\", \"message\"])\n",
        "data['label_num'] = data['label'].map({'ham': 0, 'spam': 1})"
      ],
      "metadata": {
        "id": "oxiYnBO2wu5f"
      },
      "execution_count": 3,
      "outputs": []
    },
    {
      "cell_type": "code",
      "source": [
        "vectorizer = TfidfVectorizer()\n",
        "X = vectorizer.fit_transform(data['message'])\n",
        "y = data['label_num']\n",
        "X_train, X_test, y_train, y_test = train_test_split(X, y, test_size=0.2, random_state=42)"
      ],
      "metadata": {
        "id": "zMuwViDRww8m"
      },
      "execution_count": 4,
      "outputs": []
    },
    {
      "cell_type": "markdown",
      "source": [
        "# 🤝 Week 8 – Gradient Boosting & XGBoost\n",
        "\n",
        "---\n",
        "\n",
        "### 🚨 Why Not Just Use Random Forests?\n",
        "\n",
        "- Random Forests are **ensemble models** that aggregate decisions from multiple trees.\n",
        "- But what if we could make our models **more accurate** by iteratively correcting errors?\n",
        "\n",
        "➡️ **Boosting** works by **sequentially** focusing on **misclassified points** and improving over time.\n",
        "\n",
        "---\n",
        "\n",
        "## 📍 Enter Gradient Boosting\n",
        "\n",
        "### 🌟 Core Idea:\n",
        "- **Boosting** combines **weak learners** (typically shallow decision trees) into a **stronger model**.\n",
        "- Each model added corrects the **errors** of the previous one.\n",
        "\n",
        "> Boosting is like **training** a group of individuals, where each member **learns from the previous one's mistakes**.\n",
        "\n",
        "---\n",
        "\n",
        "### 🧮 How It Works\n",
        "\n",
        "1. Train the first model.\n",
        "2. Look at **mistakes** (misclassified points).\n",
        "3. Train the next model focusing on those mistakes.\n",
        "4. Combine them together to make a strong final model.\n",
        "\n",
        "---"
      ],
      "metadata": {
        "id": "Q62IrLdvw24O"
      }
    },
    {
      "cell_type": "markdown",
      "source": [
        "# **SECTION 4: Train Gradient Boosting Model**"
      ],
      "metadata": {
        "id": "_jxwVUKsw4Ee"
      }
    },
    {
      "cell_type": "code",
      "source": [
        "from sklearn.ensemble import GradientBoostingClassifier\n",
        "from sklearn.metrics import classification_report"
      ],
      "metadata": {
        "id": "s55dNgxSwy6W"
      },
      "execution_count": 5,
      "outputs": []
    },
    {
      "cell_type": "code",
      "source": [
        "gb = GradientBoostingClassifier(n_estimators=100, learning_rate=0.1)\n",
        "gb.fit(X_train, y_train)\n",
        "y_pred_gb = gb.predict(X_test)"
      ],
      "metadata": {
        "id": "MZVFhUmAw8wn"
      },
      "execution_count": 6,
      "outputs": []
    },
    {
      "cell_type": "code",
      "source": [
        "print(\"--- Gradient Boosting ---\")\n",
        "print(classification_report(y_test, y_pred_gb))"
      ],
      "metadata": {
        "colab": {
          "base_uri": "https://localhost:8080/"
        },
        "id": "ZN83bGaXw_Pn",
        "outputId": "ba197027-0087-4209-ceb7-b350f55e6bf7"
      },
      "execution_count": 7,
      "outputs": [
        {
          "output_type": "stream",
          "name": "stdout",
          "text": [
            "--- Gradient Boosting ---\n",
            "              precision    recall  f1-score   support\n",
            "\n",
            "           0       0.98      1.00      0.99       966\n",
            "           1       0.98      0.85      0.91       149\n",
            "\n",
            "    accuracy                           0.98      1115\n",
            "   macro avg       0.98      0.92      0.95      1115\n",
            "weighted avg       0.98      0.98      0.98      1115\n",
            "\n"
          ]
        }
      ]
    },
    {
      "cell_type": "markdown",
      "source": [
        "\n",
        "### 📐 Gradient Boosting vs XGBoost\n",
        "\n",
        "- **Gradient Boosting** is a simple, sequential approach.\n",
        "- **XGBoost** is an optimized, regularized version of Gradient Boosting that focuses on:\n",
        "  - **Speed**\n",
        "  - **Regularization** to prevent overfitting\n",
        "  - **Handling missing data** more efficiently\n",
        "\n",
        "---\n",
        "\n",
        "### 🤔 Hyperparameters to Tune\n",
        "\n",
        "- `n_estimators`: Number of trees in the model.\n",
        "- `learning_rate`: Controls how much each model is weighted.\n",
        "- `max_depth`: Controls the complexity of the trees.\n",
        "\n",
        "---"
      ],
      "metadata": {
        "id": "Zlx3-4RLxJmg"
      }
    },
    {
      "cell_type": "markdown",
      "source": [
        "# S**ECTION 5: Add XGBoost**"
      ],
      "metadata": {
        "id": "3yblWcz3xNOR"
      }
    },
    {
      "cell_type": "code",
      "source": [
        "import xgboost as xgb"
      ],
      "metadata": {
        "id": "Ini_fQSnxCbP"
      },
      "execution_count": 8,
      "outputs": []
    },
    {
      "cell_type": "code",
      "source": [
        "xgb_model = xgb.XGBClassifier(use_label_encoder=False, eval_metric='logloss')\n",
        "xgb_model.fit(X_train, y_train)\n",
        "y_pred_xgb = xgb_model.predict(X_test)"
      ],
      "metadata": {
        "colab": {
          "base_uri": "https://localhost:8080/"
        },
        "id": "AmplznzWxPuZ",
        "outputId": "18626e22-2210-457c-f75f-2b80feed5999"
      },
      "execution_count": 9,
      "outputs": [
        {
          "output_type": "stream",
          "name": "stderr",
          "text": [
            "/usr/local/lib/python3.11/dist-packages/xgboost/core.py:158: UserWarning: [11:28:25] WARNING: /workspace/src/learner.cc:740: \n",
            "Parameters: { \"use_label_encoder\" } are not used.\n",
            "\n",
            "  warnings.warn(smsg, UserWarning)\n"
          ]
        }
      ]
    },
    {
      "cell_type": "code",
      "source": [
        "print(\"--- XGBoost ---\")\n",
        "print(classification_report(y_test, y_pred_xgb))"
      ],
      "metadata": {
        "colab": {
          "base_uri": "https://localhost:8080/"
        },
        "id": "nx-6cMsbxRex",
        "outputId": "406c8d19-596c-43af-83b4-093d897bfe12"
      },
      "execution_count": 10,
      "outputs": [
        {
          "output_type": "stream",
          "name": "stdout",
          "text": [
            "--- XGBoost ---\n",
            "              precision    recall  f1-score   support\n",
            "\n",
            "           0       0.99      1.00      0.99       966\n",
            "           1       0.97      0.91      0.94       149\n",
            "\n",
            "    accuracy                           0.98      1115\n",
            "   macro avg       0.98      0.95      0.97      1115\n",
            "weighted avg       0.98      0.98      0.98      1115\n",
            "\n"
          ]
        }
      ]
    },
    {
      "cell_type": "markdown",
      "source": [
        "## 📊 Model Evaluation – Same Toolkit\n",
        "\n",
        "We use:\n",
        "- **Confusion Matrix**\n",
        "- **Precision, Recall, F1**\n",
        "- **ROC Curve + AUC**\n",
        "\n",
        "These tools help us understand how well our boosting models are performing.\n",
        "\n",
        "---"
      ],
      "metadata": {
        "id": "2LJKcz9IxYdh"
      }
    },
    {
      "cell_type": "markdown",
      "source": [
        "# **SECTION 6: Evaluation – Confusion Matrix & ROC**"
      ],
      "metadata": {
        "id": "gAMqRdjGxZQY"
      }
    },
    {
      "cell_type": "code",
      "source": [
        "import seaborn as sns\n",
        "import matplotlib.pyplot as plt\n",
        "from sklearn.metrics import confusion_matrix, ConfusionMatrixDisplay, roc_curve, roc_auc_score"
      ],
      "metadata": {
        "id": "d5VCeLjRxUZB"
      },
      "execution_count": 11,
      "outputs": []
    },
    {
      "cell_type": "markdown",
      "source": [
        "## Gradient Boosting Confusion Matrix"
      ],
      "metadata": {
        "id": "6uyxUcfRxgDa"
      }
    },
    {
      "cell_type": "code",
      "source": [
        "cm_gb = confusion_matrix(y_test, y_pred_gb)\n",
        "ConfusionMatrixDisplay(cm_gb, display_labels=['Ham', 'Spam']).plot()\n",
        "plt.title(\"Confusion Matrix - Gradient Boosting\")\n",
        "plt.show()"
      ],
      "metadata": {
        "colab": {
          "base_uri": "https://localhost:8080/",
          "height": 472
        },
        "id": "3PjSlrRJxenh",
        "outputId": "66ad840f-ebc5-4065-abcd-fd722f5a79d8"
      },
      "execution_count": 12,
      "outputs": [
        {
          "output_type": "display_data",
          "data": {
            "text/plain": [
              "<Figure size 640x480 with 2 Axes>"
            ],
            "image/png": "[encoded data removed]"
          },
          "metadata": {}
        }
      ]
    },
    {
      "cell_type": "markdown",
      "source": [
        "## XGBoost Confusion Matrix"
      ],
      "metadata": {
        "id": "CLZ9qnr_xkPD"
      }
    },
    {
      "cell_type": "code",
      "source": [
        "cm_xgb = confusion_matrix(y_test, y_pred_xgb)\n",
        "ConfusionMatrixDisplay(cm_xgb, display_labels=['Ham', 'Spam']).plot()\n",
        "plt.title(\"Confusion Matrix - XGBoost\")\n",
        "plt.show()"
      ],
      "metadata": {
        "colab": {
          "base_uri": "https://localhost:8080/",
          "height": 472
        },
        "id": "Y5RKFx32xiji",
        "outputId": "e54841e0-40ed-439a-aa80-d288b45208fc"
      },
      "execution_count": 13,
      "outputs": [
        {
          "output_type": "display_data",
          "data": {
            "text/plain": [
              "<Figure size 640x480 with 2 Axes>"
            ],
            "image/png": "[encoded data removed]"
          },
          "metadata": {}
        }
      ]
    },
    {
      "cell_type": "markdown",
      "source": [
        "## ROC Curve Comparison"
      ],
      "metadata": {
        "id": "2p8wgmDfxrYq"
      }
    },
    {
      "cell_type": "code",
      "source": [
        "y_probs_gb = gb.predict_proba(X_test)[:, 1]\n",
        "y_probs_xgb = xgb_model.predict_proba(X_test)[:, 1]"
      ],
      "metadata": {
        "id": "8mWDANVQxnI7"
      },
      "execution_count": 14,
      "outputs": []
    },
    {
      "cell_type": "code",
      "source": [
        "auc_gb = roc_auc_score(y_test, y_probs_gb)\n",
        "auc_xgb = roc_auc_score(y_test, y_probs_xgb)"
      ],
      "metadata": {
        "id": "meo5f35pzXec"
      },
      "execution_count": 15,
      "outputs": []
    },
    {
      "cell_type": "code",
      "source": [
        "fpr_gb, tpr_gb, _ = roc_curve(y_test, y_probs_gb)\n",
        "fpr_xgb, tpr_xgb, _ = roc_curve(y_test, y_probs_xgb)"
      ],
      "metadata": {
        "id": "EfC5oSfrxujL"
      },
      "execution_count": 16,
      "outputs": []
    },
    {
      "cell_type": "code",
      "source": [
        "plt.plot(fpr_gb, tpr_gb, label=f'Gradient Boosting (AUC = {auc_gb:.2f})')\n",
        "plt.plot(fpr_xgb, tpr_xgb, label=f'XGBoost (AUC = {auc_xgb:.2f})')\n",
        "plt.plot([0, 1], [0, 1], linestyle=\"--\", color=\"gray\")\n",
        "plt.xlabel(\"False Positive Rate\")\n",
        "plt.ylabel(\"True Positive Rate\")\n",
        "plt.title(\"ROC Curve - Boosting Models\")\n",
        "plt.legend()\n",
        "plt.grid(True)\n",
        "plt.show()"
      ],
      "metadata": {
        "colab": {
          "base_uri": "https://localhost:8080/",
          "height": 472
        },
        "id": "jFVlzoDYxwFc",
        "outputId": "e6927e19-86b5-4e74-ffc0-55fd767a596b"
      },
      "execution_count": 17,
      "outputs": [
        {
          "output_type": "display_data",
          "data": {
            "text/plain": [
              "<Figure size 640x480 with 1 Axes>"
            ],
            "image/png": "[encoded data removed]"
          },
          "metadata": {}
        }
      ]
    },
    {
      "cell_type": "markdown",
      "source": [
        "### 🧠 TL;DR\n",
        "\n",
        "| Model              | Strengths                         | Weaknesses                   |\n",
        "|--------------------|------------------------------------|-------------------------------|\n",
        "| Logistic Regression| Simple, fast                      | Assumes linear boundaries     |\n",
        "| Decision Trees     | Non-linear, interpretable         | Overfits easily               |\n",
        "| Random Forest      | Robust, strong ensemble           | Slower, harder to explain     |\n",
        "| Gradient Boosting  | Accurate, focuses on mistakes     | Sensitive to noisy data       |\n",
        "| XGBoost            | Faster, better regularized        | Requires more tuning         |\n",
        "\n",
        "---\n",
        "\n",
        "You now know how **Boosting** iteratively improves models by correcting errors.  \n",
        "Next week, we’ll dive into **model evaluation techniques** to better assess our models on real-world tasks! 🔍"
      ],
      "metadata": {
        "id": "Wt3i2hE1yJqd"
      }
    },
    {
      "cell_type": "markdown",
      "source": [
        "# **🧠 SECTION 7: What’s Coming Next?**"
      ],
      "metadata": {
        "id": "Kf7oTitLx67d"
      }
    },
    {
      "cell_type": "markdown",
      "source": [
        "### What’s Next in Week 9?\n",
        "\n",
        "Boosting gave us another way to **combine multiple weak models** for better results.  \n",
        "But how do we **evaluate** models effectively, especially on imbalanced datasets?\n",
        "\n",
        "➡️ Next week, we dive into **Model Evaluation Techniques**:  \n",
        "Precision, Recall, F1, ROC, PR curves — and when to use what 🔍"
      ],
      "metadata": {
        "id": "xin19mPwx9w8"
      }
    },
    {
      "cell_type": "markdown",
      "source": [
        "# **🏋️‍♀️ Exercises**"
      ],
      "metadata": {
        "id": "u2lNSJm4yA9E"
      }
    },
    {
      "cell_type": "markdown",
      "source": [
        "### Exercises:\n",
        "1. Try different `learning_rate` values like 0.05 or 0.2 in Gradient Boosting.\n",
        "2. Use fewer/more `n_estimators` and observe performance changes.\n",
        "3. Try `early_stopping_rounds` with XGBoost for faster training.\n",
        "4. Add text preprocessing: lowercase, remove stopwords, etc."
      ],
      "metadata": {
        "id": "TIPWBam-yEWV"
      }
    }
  ]
}