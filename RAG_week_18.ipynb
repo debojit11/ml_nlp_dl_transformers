{
  "nbformat": 4,
  "nbformat_minor": 0,
  "metadata": {
    "colab": {
      "provenance": [],
      "authorship_tag": "ABX9TyOaE6cIQxcqbH1QqGYR3sBZ",
      "include_colab_link": true
    },
    "kernelspec": {
      "name": "python3",
      "display_name": "Python 3"
    },
    "language_info": {
      "name": "python"
    }
  },
  "cells": [
    {
      "cell_type": "markdown",
      "metadata": {
        "id": "view-in-github",
        "colab_type": "text"
      },
      "source": [
        "<a href=\"https://colab.research.google.com/github/debojit11/ml_nlp_dl_transformers/blob/main/RAG_week_18.ipynb\" target=\"_parent\"><img src=\"https://colab.research.google.com/assets/colab-badge.svg\" alt=\"Open In Colab\"/></a>"
      ]
    },
    {
      "cell_type": "markdown",
      "source": [
        "# 📚 Week 18 – Modular RAG Systems & Improvements\n",
        "\n",
        "---"
      ],
      "metadata": {
        "id": "j_iR14sSpIdC"
      }
    },
    {
      "cell_type": "markdown",
      "source": [
        "## 🎯 Objectives\n",
        "\n",
        "This week, you'll:\n",
        "- Understand the modular breakdown of RAG\n",
        "- Separate retriever and generator logic\n",
        "- Use text chunking for long documents\n",
        "- Evaluate generation with better outputs\n",
        "- Try cosine similarity in FAISS\n",
        "\n",
        "---"
      ],
      "metadata": {
        "id": "NnpG97YnpNly"
      }
    },
    {
      "cell_type": "markdown",
      "source": [
        "## 🧱 Overview of a Modular RAG System\n",
        "\n",
        "Modular RAG consists of:\n",
        "\n",
        "1. **Retriever**  \n",
        "   - Converts query to vector\n",
        "   - Finds relevant chunks from the corpus\n",
        "   - Uses dense retrieval (e.g., FAISS)\n",
        "\n",
        "2. **Generator**  \n",
        "   - Takes retrieved context\n",
        "   - Answers using a generative model like T5/BART\n",
        "\n",
        "This allows flexibility to:\n",
        "- Swap models easily\n",
        "- Fine-tune modules independently\n",
        "- Add more complex retrieval logic\n",
        "\n",
        "---"
      ],
      "metadata": {
        "id": "ws9hoLwTpRqb"
      }
    },
    {
      "cell_type": "markdown",
      "source": [
        "## 🔧 Setup – Load Corpus and Libraries"
      ],
      "metadata": {
        "id": "Zn0TeGVGpXVD"
      }
    },
    {
      "cell_type": "code",
      "execution_count": null,
      "metadata": {
        "colab": {
          "base_uri": "https://localhost:8080/"
        },
        "id": "j8lL96L3pH2H",
        "outputId": "503604c0-5f89-437c-cf1d-5920437ae661"
      },
      "outputs": [
        {
          "output_type": "stream",
          "name": "stdout",
          "text": [
            "Collecting faiss-cpu\n",
            "  Downloading faiss_cpu-1.10.0-cp311-cp311-manylinux_2_28_x86_64.whl.metadata (4.4 kB)\n",
            "Requirement already satisfied: numpy<3.0,>=1.25.0 in /usr/local/lib/python3.11/dist-packages (from faiss-cpu) (2.0.2)\n",
            "Requirement already satisfied: packaging in /usr/local/lib/python3.11/dist-packages (from faiss-cpu) (24.2)\n",
            "Downloading faiss_cpu-1.10.0-cp311-cp311-manylinux_2_28_x86_64.whl (30.7 MB)\n",
            "\u001b[2K   \u001b[90m━━━━━━━━━━━━━━━━━━━━━━━━━━━━━━━━━━━━━━━━\u001b[0m \u001b[32m30.7/30.7 MB\u001b[0m \u001b[31m56.0 MB/s\u001b[0m eta \u001b[36m0:00:00\u001b[0m\n",
            "\u001b[?25hInstalling collected packages: faiss-cpu\n",
            "Successfully installed faiss-cpu-1.10.0\n"
          ]
        }
      ],
      "source": [
        "!pip install faiss-cpu"
      ]
    },
    {
      "cell_type": "code",
      "source": [
        "from sentence_transformers import SentenceTransformer\n",
        "from transformers import pipeline\n",
        "import faiss\n",
        "import numpy as np"
      ],
      "metadata": {
        "id": "VRrrWcLGpfcL"
      },
      "execution_count": null,
      "outputs": []
    },
    {
      "cell_type": "markdown",
      "source": [
        "## 📄 Define Your Corpus (Can Scale Later)"
      ],
      "metadata": {
        "id": "TnlYASQxpj_0"
      }
    },
    {
      "cell_type": "code",
      "source": [
        "corpus = [\n",
        "    \"Transformers use self-attention for sequence modeling.\",\n",
        "    \"The Eiffel Tower is a famous monument in Paris.\",\n",
        "    \"Python is widely used for data science and machine learning.\",\n",
        "    \"FAISS enables fast similarity search over dense vectors.\",\n",
        "    \"T5 is a text-to-text transformer developed by Google.\",\n",
        "    \"Hugging Face provides pretrained transformer models.\"\n",
        "]"
      ],
      "metadata": {
        "id": "5U4tK9SlpiI9"
      },
      "execution_count": null,
      "outputs": []
    },
    {
      "cell_type": "markdown",
      "source": [
        "## 🔍 Retriever: Embed + Index + Search (Cosine Similarity)"
      ],
      "metadata": {
        "id": "WCuCbrdlpsG2"
      }
    },
    {
      "cell_type": "code",
      "source": [
        "# Load sentence-transformer model\n",
        "embedder = SentenceTransformer(\"all-MiniLM-L6-v2\")"
      ],
      "metadata": {
        "colab": {
          "base_uri": "https://localhost:8080/",
          "height": 534,
          "referenced_widgets": [
            "d75ff21fa9784f53a797b9787fd7b072",
            "6ba99c8b373d4a1d8c0d752641804115",
            "398dc742d4d641a08b8d2e66803d549e",
            "7cdbeff685e54a5dafe748d2311e8628",
            "fa68a07c97374a91ab4cddaea1c7aca0",
            "831fe40539174f5eaabf28baaf4453f0",
            "2d87352d272141b3a332429bde6e9c77",
            "3ff6bd05d7514bad9d88dc6d5a06ba6c",
            "362c490ad6224e9cb3fd56f58d110fce",
            "7db22ff752564491a19d7e15645a923e",
            "c97b1bcaa6eb47f1bb99619e4fe840bd",
            "ff031625cf6c4b12825c2e2fe1de564e",
            "f3a8c60d36234a58a7fac9954adaf7ec",
            "884090fdf7fb4a1487e91dfe8880812c",
            "a18ffae65bc84184a744a265a18f3489",
            "a78bb364680a4b7383d263806e59bacd",
            "89e3155c43c449c499b9aa42a2b03b60",
            "6aac0cf6a70846a087144ea8465a9b8e",
            "5436a77a821345a7b97a8409aed12874",
            "bd673000aaf343b391d29ddc27361cce",
            "3c5a7d3c411a42a28a9e2edeb7514934",
            "2e8e89d5fea249c48a49efde7ac4c39e",
            "c91aecdbcf3a4510a477dcf0e5e0199b",
            "aa7604a93c9b4632b771d6a03597ff39",
            "0c5f9f4a7faa413496719b5b04626c15",
            "20d88bcca3dc43c293692f7111950c45",
            "6154266431ad40c79265733c62fd1c19",
            "cf982da010964681a9508d3a98dc2712",
            "b73731807df14f0293bf76e7f6d1932d",
            "2a3d4ac220c2404cbbc195e9b8f39422",
            "28e05fb6b082480daf141cfc6adf1844",
            "835911db8f204d90ab514a943cf41ba5",
            "f3c418b768f84b30ac8c6485f93d8e1d",
            "421b183388504c33914932397079a6fb",
            "425f1b329e424362b7f5a8f93d564768",
            "323794221a384527af84dba781c885a8",
            "9fcb6239cad94eaa93d31ec158a10bf4",
            "f79da712770a4ca293c68227c3f2e28a",
            "f5e34f423ed742d496843995e5ccb2c5",
            "b54c76bfc5964531acb51e6d53d42352",
            "7a056a0b19294ba2abda7180c2181a5c",
            "066f7d6628614b66b335c64e8aafef3a",
            "5082d99649b543f38c9aed580b25d2fb",
            "5e13872657bb4126a889793765a86ba7",
            "d9443647b9cb4a0d91f16acf1a0c28b0",
            "20e89ca9e667483e9eb32cc5b17159f2",
            "b9aa3ddc9ef443af9306801e9a7f493d",
            "5125a78fc7514b87a4a6416d6312dcc1",
            "85a03a74507d41af8a549660c7e29374",
            "c4fc89dcc55b44868c86987e0077e3ca",
            "58b43a2d8ade4c96b86ecfcb8c017ff3",
            "c6a7e8e62c1d4a5aa2a0d5cc8bac892a",
            "1e37f82c54b642d3a2b7d078a9f8e4d5",
            "0edda943bb8946e681a57105dfa3d8a0",
            "4f2d8c2c33c94941be5bd4693d94e60b",
            "3c817726f9204e54bcdce2b4e27a1f89",
            "f7fddc86b3c94972b68f6c2c642aef5b",
            "8d0f6803d9a34b9fa2af8940c5fabced",
            "a44e0e51db1642fda65072b9a2b9191d",
            "0d74133a845745c1988afc016725ba19",
            "7ef9d559576b40a4acae93c0424a8060",
            "ffd95088c8a841e79797128bb38685f1",
            "768838a0a20a4f9a8085181056ef4cc5",
            "112ec3e845704b138f6e056a33a56039",
            "d829ae36ec0c46eb9853eef8b9da2797",
            "f83982c01673426eb0d20b4fe3262d37",
            "4a0fdcf2ec43418a962922b703848b89",
            "a103f81315104ab0b62bb2ac84256fd6",
            "deb599081af34a7d880073dbe2d10d73",
            "0eea1f7f0a4d4f4c8503910918f97a2d",
            "3bbbeda64a524a6596fc4784ff3750e8",
            "72960a36fa004a5099789d7eeeee6a5b",
            "fbec5c5a457049d5a90fa92dda91124e",
            "54cdb924bdf54254aa451e653b24a893",
            "4e90960a26544effad99cfe5475ce185",
            "ce068ac6024e4575984a2b51e2f543f1",
            "0f30f1ca98b444b49d9350195e4362cc",
            "6d14618c1a4d4e3993bf5619b9dd2799",
            "4d4336d8ee894e69b7bdfe346a774e54",
            "9d318440a2184c929efab6c4926b1c61",
            "17aae6e423814743a576af2e776af8fe",
            "6185154c58b44b98a4ecda8e1717e81f",
            "cbbf1e797ddd46d1a1e68a3020b3b766",
            "9979e46df7a742fcb786a09eb3fc9cdc",
            "021a34d2ecac409c889629aa099c33d5",
            "c98568f619c0489b872def238d467013",
            "888533cfce774843a9cfe61559f587f4",
            "e6ecdd6508a24f4287e905f3c1f11216",
            "cbff0642b7194d63bc95c526d736f9a0",
            "43d765258d944ff8a1a9e51c02db93a2",
            "9001c60902f74831969aec350821393f",
            "cf606277c72c48958596c08a07c5420c",
            "251851cbac8447189b3dcf30eeb0190d",
            "8d022c9d4c45490d9537aa371ec2f773",
            "f88269348bf24a088006ce8022a22297",
            "2d8acd6b77144f8bbf8b239b73b5e93d",
            "6f823cbfced8437ea48cb8e00989c35a",
            "9e9a73b97f844db0999b59ecd007ff1c",
            "481ed386393e4c6794e2c67b1262add1",
            "fe78d37ffedf4f8cb6c3cad882daaa24",
            "92461470d0f54b74b343ca33933b5fc7",
            "db7f59dfc63f4dfeb91fbbfd30c5a029",
            "cd59ff81189943d5aed6d1bbf3631baa",
            "73990c051e1a4529bc0387ddc61931ea",
            "b696aa54219945cdb2aabcc54f35416b",
            "5fb44d70e688480d9222e5d209496349",
            "7f6d782b9b9340df9dd21e72d262d407",
            "731f0240bb724b2da50a96a0e77e6b32",
            "1c38d0042df344b59d1eefa0c481f70b",
            "62a404a44b5e488ea6c957f826744772",
            "325af8821c7e44d2880c7292514d3293",
            "2105c7912c1f471d847bf7b53cea5ac3",
            "66c324256fde4582acbb4f2329a6eaaa",
            "8639adb9076843da98ddebd60ed8a82c",
            "5be677a51f454adfa00745c6a76788ed",
            "b8003d60b2e64b7b83b4c8daa43efe75",
            "a3f463f274a341c4a29e26d388950dc5",
            "4d7cffa7273b4c72bfc796c8cc41c3f4",
            "f1b15973b78c4428bc5dd1901fd34585",
            "a8ad35fd974541238459de334026b402",
            "e43a45f0c888427bb1ea7252ea4efb46"
          ]
        },
        "id": "7HmFJH39pqcV",
        "outputId": "e968bb25-4a5d-4c9e-9822-0bf7aa7be3d2"
      },
      "execution_count": null,
      "outputs": [
        {
          "output_type": "stream",
          "name": "stderr",
          "text": [
            "/usr/local/lib/python3.11/dist-packages/huggingface_hub/utils/_auth.py:94: UserWarning: \n",
            "The secret `HF_TOKEN` does not exist in your Colab secrets.\n",
            "To authenticate with the Hugging Face Hub, create a token in your settings tab (https://huggingface.co/settings/tokens), set it as secret in your Google Colab and restart your session.\n",
            "You will be able to reuse this secret in all of your notebooks.\n",
            "Please note that authentication is recommended but still optional to access public models or datasets.\n",
            "  warnings.warn(\n"
          ]
        },
        {
          "output_type": "display_data",
          "data": {
            "text/plain": [
              "modules.json:   0%|          | 0.00/349 [00:00<?, ?B/s]"
            ],
            "application/vnd.jupyter.widget-view+json": {
              "version_major": 2,
              "version_minor": 0,
              "model_id": "d75ff21fa9784f53a797b9787fd7b072"
            }
          },
          "metadata": {}
        },
        {
          "output_type": "display_data",
          "data": {
            "text/plain": [
              "config_sentence_transformers.json:   0%|          | 0.00/116 [00:00<?, ?B/s]"
            ],
            "application/vnd.jupyter.widget-view+json": {
              "version_major": 2,
              "version_minor": 0,
              "model_id": "ff031625cf6c4b12825c2e2fe1de564e"
            }
          },
          "metadata": {}
        },
        {
          "output_type": "display_data",
          "data": {
            "text/plain": [
              "README.md:   0%|          | 0.00/10.5k [00:00<?, ?B/s]"
            ],
            "application/vnd.jupyter.widget-view+json": {
              "version_major": 2,
              "version_minor": 0,
              "model_id": "c91aecdbcf3a4510a477dcf0e5e0199b"
            }
          },
          "metadata": {}
        },
        {
          "output_type": "display_data",
          "data": {
            "text/plain": [
              "sentence_bert_config.json:   0%|          | 0.00/53.0 [00:00<?, ?B/s]"
            ],
            "application/vnd.jupyter.widget-view+json": {
              "version_major": 2,
              "version_minor": 0,
              "model_id": "421b183388504c33914932397079a6fb"
            }
          },
          "metadata": {}
        },
        {
          "output_type": "display_data",
          "data": {
            "text/plain": [
              "config.json:   0%|          | 0.00/612 [00:00<?, ?B/s]"
            ],
            "application/vnd.jupyter.widget-view+json": {
              "version_major": 2,
              "version_minor": 0,
              "model_id": "d9443647b9cb4a0d91f16acf1a0c28b0"
            }
          },
          "metadata": {}
        },
        {
          "output_type": "stream",
          "name": "stderr",
          "text": [
            "Xet Storage is enabled for this repo, but the 'hf_xet' package is not installed. Falling back to regular HTTP download. For better performance, install the package with: `pip install huggingface_hub[hf_xet]` or `pip install hf_xet`\n",
            "WARNING:huggingface_hub.file_download:Xet Storage is enabled for this repo, but the 'hf_xet' package is not installed. Falling back to regular HTTP download. For better performance, install the package with: `pip install huggingface_hub[hf_xet]` or `pip install hf_xet`\n"
          ]
        },
        {
          "output_type": "display_data",
          "data": {
            "text/plain": [
              "model.safetensors:   0%|          | 0.00/90.9M [00:00<?, ?B/s]"
            ],
            "application/vnd.jupyter.widget-view+json": {
              "version_major": 2,
              "version_minor": 0,
              "model_id": "3c817726f9204e54bcdce2b4e27a1f89"
            }
          },
          "metadata": {}
        },
        {
          "output_type": "display_data",
          "data": {
            "text/plain": [
              "tokenizer_config.json:   0%|          | 0.00/350 [00:00<?, ?B/s]"
            ],
            "application/vnd.jupyter.widget-view+json": {
              "version_major": 2,
              "version_minor": 0,
              "model_id": "4a0fdcf2ec43418a962922b703848b89"
            }
          },
          "metadata": {}
        },
        {
          "output_type": "display_data",
          "data": {
            "text/plain": [
              "vocab.txt:   0%|          | 0.00/232k [00:00<?, ?B/s]"
            ],
            "application/vnd.jupyter.widget-view+json": {
              "version_major": 2,
              "version_minor": 0,
              "model_id": "6d14618c1a4d4e3993bf5619b9dd2799"
            }
          },
          "metadata": {}
        },
        {
          "output_type": "display_data",
          "data": {
            "text/plain": [
              "tokenizer.json:   0%|          | 0.00/466k [00:00<?, ?B/s]"
            ],
            "application/vnd.jupyter.widget-view+json": {
              "version_major": 2,
              "version_minor": 0,
              "model_id": "cbff0642b7194d63bc95c526d736f9a0"
            }
          },
          "metadata": {}
        },
        {
          "output_type": "display_data",
          "data": {
            "text/plain": [
              "special_tokens_map.json:   0%|          | 0.00/112 [00:00<?, ?B/s]"
            ],
            "application/vnd.jupyter.widget-view+json": {
              "version_major": 2,
              "version_minor": 0,
              "model_id": "fe78d37ffedf4f8cb6c3cad882daaa24"
            }
          },
          "metadata": {}
        },
        {
          "output_type": "display_data",
          "data": {
            "text/plain": [
              "config.json:   0%|          | 0.00/190 [00:00<?, ?B/s]"
            ],
            "application/vnd.jupyter.widget-view+json": {
              "version_major": 2,
              "version_minor": 0,
              "model_id": "325af8821c7e44d2880c7292514d3293"
            }
          },
          "metadata": {}
        }
      ]
    },
    {
      "cell_type": "code",
      "source": [
        "# Encode corpus\n",
        "corpus_embeddings = embedder.encode(corpus, convert_to_numpy=True)"
      ],
      "metadata": {
        "id": "gyl7A0Enpxee"
      },
      "execution_count": null,
      "outputs": []
    },
    {
      "cell_type": "code",
      "source": [
        "# Normalize for cosine similarity\n",
        "corpus_embeddings = corpus_embeddings / np.linalg.norm(corpus_embeddings, axis=1, keepdims=True)"
      ],
      "metadata": {
        "id": "Sr7GrhGip0xW"
      },
      "execution_count": null,
      "outputs": []
    },
    {
      "cell_type": "code",
      "source": [
        "# Create cosine FAISS index\n",
        "index = faiss.IndexFlatIP(corpus_embeddings.shape[1])  # IP = inner product ≈ cosine if vectors are normalized\n",
        "index.add(corpus_embeddings)"
      ],
      "metadata": {
        "id": "ETIFLaX4p2_f"
      },
      "execution_count": null,
      "outputs": []
    },
    {
      "cell_type": "code",
      "source": [
        "# Modular retriever\n",
        "def retrieve(query, k=3):\n",
        "    query_embedding = embedder.encode([query], convert_to_numpy=True)\n",
        "    query_embedding = query_embedding / np.linalg.norm(query_embedding)\n",
        "    D, I = index.search(query_embedding, k)\n",
        "    return [corpus[i] for i in I[0]]"
      ],
      "metadata": {
        "id": "LILQhC-Cp4qn"
      },
      "execution_count": null,
      "outputs": []
    },
    {
      "cell_type": "markdown",
      "source": [
        "## 🧪 Test Retriever"
      ],
      "metadata": {
        "id": "k9TtZuOEp8Gv"
      }
    },
    {
      "cell_type": "code",
      "source": [
        "query = \"What is T5 used for?\"\n",
        "docs = retrieve(query)\n",
        "print(\"Top retrieved documents:\")\n",
        "for doc in docs:\n",
        "    print(\"-\", doc)"
      ],
      "metadata": {
        "colab": {
          "base_uri": "https://localhost:8080/"
        },
        "id": "H_Nrdu4Ip50-",
        "outputId": "4aae79dd-a066-4b8a-ccc5-a38828869c82"
      },
      "execution_count": null,
      "outputs": [
        {
          "output_type": "stream",
          "name": "stdout",
          "text": [
            "Top retrieved documents:\n",
            "- T5 is a text-to-text transformer developed by Google.\n",
            "- Python is widely used for data science and machine learning.\n",
            "- Hugging Face provides pretrained transformer models.\n"
          ]
        }
      ]
    },
    {
      "cell_type": "markdown",
      "source": [
        "## 🤖 Generator Module: Use T5 for Generation"
      ],
      "metadata": {
        "id": "oflQOXH2qFtZ"
      }
    },
    {
      "cell_type": "code",
      "source": [
        "generator = pipeline(\"text2text-generation\", model=\"google/flan-t5-base\")"
      ],
      "metadata": {
        "colab": {
          "base_uri": "https://localhost:8080/",
          "height": 352,
          "referenced_widgets": [
            "97b1b3226cc74b7ba5b46aee17f7fdf4",
            "c28e986bc62048ef9239c897f27c12d0",
            "1b4ef37bc2574713975a915df04954de",
            "e7e019df53664f8e884671238d77cbcb",
            "773ea384de20425e9679bd7007f86cbe",
            "7860c40b0d274c819caed2be5d47de9f",
            "2b4f4e26d372412bb31925f74ea282e6",
            "86a50ec7bba944d4a36dde16c4ea3833",
            "469806303a3e461993b8b1abaaa32818",
            "c73ab00963d44356a2cc3a4d8d3a2ad5",
            "b0ac4a7052684d5ea67a6f2947304a46",
            "e1cae19b63f14d288a38b39c028b7112",
            "cc207b5b60fc4e2d846648a035dbb6d9",
            "2a8a84141cee49388060e46dbc89654e",
            "03421576dba146a396262528b9869060",
            "9112fb313a704c518e1ca3aba723bb4d",
            "d85c090a82eb4e7e96aee365fe233765",
            "e3aa8099da894cd683245a358e5439a6",
            "88ed7e2a1a96462d817c37828a517b9c",
            "b7137a4ab3734a2798a6a6f25b024113",
            "57cd88f86a174b7e9683d4edd43472c7",
            "330daa7a62a1479d80a996965d5673af",
            "15e4d9758e6741d2a28926f8139d5143",
            "2bd828879872453a8bd9cd2802a436eb",
            "f00a3f5150954f7294bc782a76a1eb76",
            "b84de9cbbfe640d0bcc4bc2654ae5d62",
            "538f2ec71bb7455ca19a3faa8a177db6",
            "fe082ca681e948d79f5c04f1bd5b4c4c",
            "36dded60bf114c70b0d8ffa78f856ba9",
            "8ca3a49f835c4a1792db23fa9650f1f4",
            "b5f0561684ae4ac3aacd0756bf60f3aa",
            "cb7ac2a2f4c1478f8090f0a481f23248",
            "e9a55634ae3a405cbd3e9acd9c814f77",
            "cdfa92ca9b7f4f1aadcd8456f1b4ffdc",
            "ace10c1c9e1d4cbe8bf0a4ccf95bc586",
            "a8ab80ddcef64d32ade07cd0e253f038",
            "3e979f7ff9ec493eaffcfc953abc94b4",
            "72c1c69d6fb54702b88d268c06d9640e",
            "5beba1365b0f4d55bf6d29ad1fb750b9",
            "73d122f9ad654b63a9140a8f07721ea9",
            "2ca3da5b157a4b7b8246e267dbad6169",
            "c40d3cd641d943c78d25ae155ab5a2be",
            "5fb8412900c34b399d9bd214b00e51c6",
            "5f56da81b87b4af09b7a5d6b502fbaab",
            "29c544bce37a4e0997fc1f9eab2bb8eb",
            "7c0558bf1f374925973ca147b8c928d7",
            "8a5c608ead4e4a2fb9ed42a815e88b24",
            "33ceee15f3b240fb9535dae31ff5daf7",
            "c1bcc5a71fbc4bb2ba8f5dbe491bd227",
            "381467f9d45c4732974c4a240273599c",
            "dbf380ab4cc544acbb08de4044ff9d3a",
            "03bced63aeb3457382a8a7d893c5c91c",
            "80992f07cbdb4037b6cab78a9a147efb",
            "374933b48e0e417f95ceb0e6a99031dc",
            "49724d5669fe4d59a9e3c40c1c26797d",
            "49be69bf05fe4914b7996964c88b3df1",
            "11cd9d5f1166408f91a75dffea8f5c82",
            "b04b56fc49314b349772fb94189ce2ec",
            "68456c04709a4956b5b1a67014723f2f",
            "7f85b6686b8d4286b9990f8069e7674c",
            "10a1a6c5d16a430da2c8248991716fd1",
            "60255c2806a74ad28722f55148cde27c",
            "36da628a42fa4f09b5d392a78bf42880",
            "b0e04ca8379f4e31a4846a83020c3b72",
            "02f3dfd7ad5a49dc823301e97e25f772",
            "fe8aa9ea80f040ba91493123eb6239c7",
            "a4a9e744064c4f4a9bbb8e9dc425ac33",
            "b02ac849689a42c1b7216de44183053c",
            "68708c0d5cd34e539140e4768314ba85",
            "4a8188f95bbc4498aa7477af77091ffa",
            "5f88ff582e88456eae474a9fff4da714",
            "57be5a57624949e8984c7c9ee832b1f0",
            "bf441c6773b044769c951310d4c2ea5f",
            "84ddfe3f04d0436db8fd21621b688410",
            "6036c8db15844b968602f64f8668b594",
            "522a143dc7944daa9858e3364ce21a1d",
            "7f8a378209384827bf7d43ccff434d71"
          ]
        },
        "id": "8MqXFhoWp-mv",
        "outputId": "41d88081-1fd6-4643-d3be-2142a2a08bc0"
      },
      "execution_count": null,
      "outputs": [
        {
          "output_type": "display_data",
          "data": {
            "text/plain": [
              "config.json:   0%|          | 0.00/1.40k [00:00<?, ?B/s]"
            ],
            "application/vnd.jupyter.widget-view+json": {
              "version_major": 2,
              "version_minor": 0,
              "model_id": "97b1b3226cc74b7ba5b46aee17f7fdf4"
            }
          },
          "metadata": {}
        },
        {
          "output_type": "stream",
          "name": "stderr",
          "text": [
            "Xet Storage is enabled for this repo, but the 'hf_xet' package is not installed. Falling back to regular HTTP download. For better performance, install the package with: `pip install huggingface_hub[hf_xet]` or `pip install hf_xet`\n",
            "WARNING:huggingface_hub.file_download:Xet Storage is enabled for this repo, but the 'hf_xet' package is not installed. Falling back to regular HTTP download. For better performance, install the package with: `pip install huggingface_hub[hf_xet]` or `pip install hf_xet`\n"
          ]
        },
        {
          "output_type": "display_data",
          "data": {
            "text/plain": [
              "model.safetensors:   0%|          | 0.00/990M [00:00<?, ?B/s]"
            ],
            "application/vnd.jupyter.widget-view+json": {
              "version_major": 2,
              "version_minor": 0,
              "model_id": "e1cae19b63f14d288a38b39c028b7112"
            }
          },
          "metadata": {}
        },
        {
          "output_type": "display_data",
          "data": {
            "text/plain": [
              "generation_config.json:   0%|          | 0.00/147 [00:00<?, ?B/s]"
            ],
            "application/vnd.jupyter.widget-view+json": {
              "version_major": 2,
              "version_minor": 0,
              "model_id": "15e4d9758e6741d2a28926f8139d5143"
            }
          },
          "metadata": {}
        },
        {
          "output_type": "display_data",
          "data": {
            "text/plain": [
              "tokenizer_config.json:   0%|          | 0.00/2.54k [00:00<?, ?B/s]"
            ],
            "application/vnd.jupyter.widget-view+json": {
              "version_major": 2,
              "version_minor": 0,
              "model_id": "cdfa92ca9b7f4f1aadcd8456f1b4ffdc"
            }
          },
          "metadata": {}
        },
        {
          "output_type": "stream",
          "name": "stderr",
          "text": [
            "Xet Storage is enabled for this repo, but the 'hf_xet' package is not installed. Falling back to regular HTTP download. For better performance, install the package with: `pip install huggingface_hub[hf_xet]` or `pip install hf_xet`\n",
            "WARNING:huggingface_hub.file_download:Xet Storage is enabled for this repo, but the 'hf_xet' package is not installed. Falling back to regular HTTP download. For better performance, install the package with: `pip install huggingface_hub[hf_xet]` or `pip install hf_xet`\n"
          ]
        },
        {
          "output_type": "display_data",
          "data": {
            "text/plain": [
              "spiece.model:   0%|          | 0.00/792k [00:00<?, ?B/s]"
            ],
            "application/vnd.jupyter.widget-view+json": {
              "version_major": 2,
              "version_minor": 0,
              "model_id": "29c544bce37a4e0997fc1f9eab2bb8eb"
            }
          },
          "metadata": {}
        },
        {
          "output_type": "display_data",
          "data": {
            "text/plain": [
              "tokenizer.json:   0%|          | 0.00/2.42M [00:00<?, ?B/s]"
            ],
            "application/vnd.jupyter.widget-view+json": {
              "version_major": 2,
              "version_minor": 0,
              "model_id": "49be69bf05fe4914b7996964c88b3df1"
            }
          },
          "metadata": {}
        },
        {
          "output_type": "display_data",
          "data": {
            "text/plain": [
              "special_tokens_map.json:   0%|          | 0.00/2.20k [00:00<?, ?B/s]"
            ],
            "application/vnd.jupyter.widget-view+json": {
              "version_major": 2,
              "version_minor": 0,
              "model_id": "a4a9e744064c4f4a9bbb8e9dc425ac33"
            }
          },
          "metadata": {}
        },
        {
          "output_type": "stream",
          "name": "stderr",
          "text": [
            "Device set to use cpu\n"
          ]
        }
      ]
    },
    {
      "cell_type": "code",
      "source": [
        "def generate_answer(query, context_docs):\n",
        "    context = \" \".join(context_docs)\n",
        "    prompt = f\"question: {query} context: {context}\"\n",
        "    output = generator(prompt, max_length=64, do_sample=False)\n",
        "    return output[0]['generated_text']"
      ],
      "metadata": {
        "id": "7p0O2npbqISQ"
      },
      "execution_count": null,
      "outputs": []
    },
    {
      "cell_type": "markdown",
      "source": [
        "## 🧪 End-to-End RAG Demo"
      ],
      "metadata": {
        "id": "a8_ujRB9qRgx"
      }
    },
    {
      "cell_type": "code",
      "source": [
        "query = \"What is FAISS?\"\n",
        "docs = retrieve(query)\n",
        "answer = generate_answer(query, docs)\n",
        "\n",
        "print(\"📥 Query:\", query)\n",
        "print(\"📚 Retrieved Context:\")\n",
        "for doc in docs:\n",
        "    print(\"-\", doc)\n",
        "print(\"🧠 Generated Answer:\", answer)"
      ],
      "metadata": {
        "colab": {
          "base_uri": "https://localhost:8080/"
        },
        "id": "iHX-Al_1qM55",
        "outputId": "e97fade4-f953-4d90-e752-a49e80b054be"
      },
      "execution_count": null,
      "outputs": [
        {
          "output_type": "stream",
          "name": "stdout",
          "text": [
            "📥 Query: What is FAISS?\n",
            "📚 Retrieved Context:\n",
            "- FAISS enables fast similarity search over dense vectors.\n",
            "- The Eiffel Tower is a famous monument in Paris.\n",
            "- Python is widely used for data science and machine learning.\n",
            "🧠 Generated Answer: enables fast similarity search over dense vectors\n"
          ]
        }
      ]
    },
    {
      "cell_type": "markdown",
      "source": [
        "## 📦 Add Text Chunking for Long Documents (Optional)"
      ],
      "metadata": {
        "id": "vQn2jZf9q8w9"
      }
    },
    {
      "cell_type": "code",
      "source": [
        "from typing import List"
      ],
      "metadata": {
        "id": "XPkxFEl0qUk6"
      },
      "execution_count": null,
      "outputs": []
    },
    {
      "cell_type": "code",
      "source": [
        "def chunk_text(text: str, chunk_size: int = 20) -> List[str]:\n",
        "    words = text.split()\n",
        "    return [\" \".join(words[i:i+chunk_size]) for i in range(0, len(words), chunk_size)]"
      ],
      "metadata": {
        "id": "py5y60knq_D1"
      },
      "execution_count": null,
      "outputs": []
    },
    {
      "cell_type": "code",
      "source": [
        "# Example: long doc chunking\n",
        "long_doc = \"The Eiffel Tower is located in Paris. It is a global cultural icon of France. Constructed from iron in 1889 for the World's Fair, it stands over 300 meters tall and attracts millions of tourists every year.\"\n",
        "chunks = chunk_text(long_doc)\n",
        "print(\"Chunks:\", chunks)"
      ],
      "metadata": {
        "colab": {
          "base_uri": "https://localhost:8080/"
        },
        "id": "iiyw7xhSrAm2",
        "outputId": "8e3e7d4c-c527-48af-8aa9-cb0b775dc9c0"
      },
      "execution_count": null,
      "outputs": [
        {
          "output_type": "stream",
          "name": "stdout",
          "text": [
            "Chunks: ['The Eiffel Tower is located in Paris. It is a global cultural icon of France. Constructed from iron in 1889', \"for the World's Fair, it stands over 300 meters tall and attracts millions of tourists every year.\"]\n"
          ]
        }
      ]
    },
    {
      "cell_type": "markdown",
      "source": [
        "## 🧪 RAG with Chunked Corpus"
      ],
      "metadata": {
        "id": "SPgzvipcsbz-"
      }
    },
    {
      "cell_type": "code",
      "source": [
        "# Add chunked long doc to corpus\n",
        "new_chunks = chunk_text(long_doc)\n",
        "corpus_extended = corpus + new_chunks"
      ],
      "metadata": {
        "id": "gSvJsEu0sBrE"
      },
      "execution_count": null,
      "outputs": []
    },
    {
      "cell_type": "code",
      "source": [
        "# Recompute embeddings and reindex\n",
        "corpus_embeddings_ext = embedder.encode(corpus_extended, convert_to_numpy=True)\n",
        "corpus_embeddings_ext = corpus_embeddings_ext / np.linalg.norm(corpus_embeddings_ext, axis=1, keepdims=True)"
      ],
      "metadata": {
        "id": "M7ge86ZnsfSX"
      },
      "execution_count": null,
      "outputs": []
    },
    {
      "cell_type": "code",
      "source": [
        "index_ext = faiss.IndexFlatIP(corpus_embeddings_ext.shape[1])\n",
        "index_ext.add(corpus_embeddings_ext)"
      ],
      "metadata": {
        "id": "q_MGjYAEsh3w"
      },
      "execution_count": null,
      "outputs": []
    },
    {
      "cell_type": "code",
      "source": [
        "def retrieve_ext(query, k=3):\n",
        "    query_embedding = embedder.encode([query], convert_to_numpy=True)\n",
        "    query_embedding = query_embedding / np.linalg.norm(query_embedding)\n",
        "    D, I = index_ext.search(query_embedding, k)\n",
        "    return [corpus_extended[i] for i in I[0]]"
      ],
      "metadata": {
        "id": "-zqoDa2LskvH"
      },
      "execution_count": null,
      "outputs": []
    },
    {
      "cell_type": "code",
      "source": [
        "# Try again with extended corpus\n",
        "query = \"When was Eiffel Tower built?\"\n",
        "docs = retrieve_ext(query)\n",
        "answer = generate_answer(query, docs)\n",
        "\n",
        "print(\"🗼 Query:\", query)\n",
        "print(\"📚 Retrieved Context:\")\n",
        "for doc in docs:\n",
        "    print(\"-\", doc)\n",
        "print(\"🧠 Generated Answer:\", answer)"
      ],
      "metadata": {
        "colab": {
          "base_uri": "https://localhost:8080/"
        },
        "id": "0ADqVXGXsnJY",
        "outputId": "cdb9d483-2cdf-41d4-ef86-d484cd404ff7"
      },
      "execution_count": null,
      "outputs": [
        {
          "output_type": "stream",
          "name": "stdout",
          "text": [
            "🗼 Query: When was Eiffel Tower built?\n",
            "📚 Retrieved Context:\n",
            "- The Eiffel Tower is a famous monument in Paris.\n",
            "- The Eiffel Tower is located in Paris. It is a global cultural icon of France. Constructed from iron in 1889\n",
            "- for the World's Fair, it stands over 300 meters tall and attracts millions of tourists every year.\n",
            "🧠 Generated Answer: 1889\n"
          ]
        }
      ]
    },
    {
      "cell_type": "markdown",
      "source": [
        "## 📝 Exercises\n",
        "\n",
        "1. Swap `SentenceTransformer` with `all-mpnet-base-v2`\n",
        "2. Replace `FAISS` with BM25 (e.g., via `rank_bm25`)\n",
        "3. Add support for top-k chunk filtering based on score thresholds\n",
        "4. Chunk large PDF/text files and try multi-page RAG\n",
        "\n",
        "---"
      ],
      "metadata": {
        "id": "DiTl6DHdsw-I"
      }
    },
    {
      "cell_type": "markdown",
      "source": [
        "➡️ Coming up next: **Week 19 – Advanced RAG: Hybrid Retrieval & Evaluation Metrics**"
      ],
      "metadata": {
        "id": "gegNYJhjs5ap"
      }
    }
  ]
}