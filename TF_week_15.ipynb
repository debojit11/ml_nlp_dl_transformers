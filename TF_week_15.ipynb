{
  "nbformat": 4,
  "nbformat_minor": 0,
  "metadata": {
    "colab": {
      "provenance": []
    },
    "kernelspec": {
      "name": "python3",
      "display_name": "Python 3"
    },
    "language_info": {
      "name": "python"
    },
  },
  "cells": [
    {
      "cell_type": "markdown",
      "source": [
        "# Week 15: Transformers & BERT (Modern NLP)"
      ],
      "metadata": {
        "id": "VygspGmFNIEo"
      }
    },
    {
      "cell_type": "markdown",
      "source": [
        "# **SECTION 1: Welcome & Objectives**"
      ],
      "metadata": {
        "id": "HRwt53rTNKg4"
      }
    },
    {
      "cell_type": "code",
      "execution_count": 1,
      "metadata": {
        "colab": {
          "base_uri": "https://localhost:8080/"
        },
        "id": "wM_67h2-M_0X",
        "outputId": "3b98fd7d-61b5-4269-852f-222f71d38f5c"
      },
      "outputs": [
        {
          "output_type": "stream",
          "name": "stdout",
          "text": [
            "Welcome to Week 15!\n",
            "This week, you'll:\n",
            "- Understand the Transformer architecture\n",
            "- Learn how BERT works for NLP tasks\n",
            "- Use Hugging Face Transformers for real-world NLP\n"
          ]
        }
      ],
      "source": [
        "print(\"Welcome to Week 15!\")\n",
        "print(\"This week, you'll:\")\n",
        "print(\"- Understand the Transformer architecture\")\n",
        "print(\"- Learn how BERT works for NLP tasks\")\n",
        "print(\"- Use Hugging Face Transformers for real-world NLP\")"
      ]
    },
    {
      "cell_type": "markdown",
      "source": [
        "# **SECTION 2: What Are Transformers?**"
      ],
      "metadata": {
        "id": "K9vNSyeaNUFZ"
      }
    },
    {
      "cell_type": "markdown",
      "source": [
        "### 🤖 What Are Transformers?\n",
        "Transformers are deep learning architectures designed to handle **sequential data** like text.\n",
        "\n",
        "They use:\n",
        "- **Self-Attention** to relate all words to each other\n",
        "- **Positional Encoding** to retain order\n",
        "- A stack of **Encoder (BERT)** or **Decoder (GPT)** blocks"
      ],
      "metadata": {
        "id": "ioSowoZCNVlw"
      }
    },
    {
      "cell_type": "markdown",
      "source": [
        "# 🤖 Week 15 – Transformers & BERT (Modern NLP)\n",
        "\n",
        "---\n",
        "\n",
        "## 🔍 Why Transformers?\n",
        "\n",
        "Traditional models (RNNs, LSTMs) process sequences **step-by-step**, which:\n",
        "- Slows down training\n",
        "- Makes it hard to capture long-range dependencies\n",
        "\n",
        "**Transformers** process all tokens **in parallel**, using **attention mechanisms** to focus on relevant words.  \n",
        "This enabled massive models like BERT, GPT, T5, etc.\n",
        "\n",
        "---"
      ],
      "metadata": {
        "id": "wOPCESzTOdNo"
      }
    },
    {
      "cell_type": "markdown",
      "source": [
        "# **SECTION 3: Self-Attention Intuition**"
      ],
      "metadata": {
        "id": "XJaeaErQNaax"
      }
    },
    {
      "cell_type": "markdown",
      "source": [
        "### 🧠 Why Self-Attention?\n",
        "In traditional RNNs/LSTMs:\n",
        "- Information flows step-by-step (sequentially)\n",
        "- Hard to model long-range dependencies\n",
        "\n",
        "Transformers:\n",
        "- Each word attends to all others in parallel\n",
        "- Learn what to \"focus\" on during prediction\n",
        "\n",
        "Example:\n",
        "> \"The animal didn't cross the street because **it** was too tired.\"\n",
        "> \\--> What does **it** refer to? Self-attention helps figure that out."
      ],
      "metadata": {
        "id": "M0TXu5cnNdjh"
      }
    },
    {
      "cell_type": "markdown",
      "source": [
        "## 🔗 Core Idea: Self-Attention\n",
        "\n",
        "Self-attention helps the model learn **which words to attend to**, regardless of position.\n",
        "\n",
        "> \"The cat sat on the **mat** because it was **tired**.\"\n",
        "\n",
        "BERT knows “it” refers to “cat” because attention weights learn such relationships.\n",
        "\n",
        "---"
      ],
      "metadata": {
        "id": "IEoSzmrYOjYw"
      }
    },
    {
      "cell_type": "markdown",
      "source": [
        "Each word attends to **all other words** in the sentence.\n",
        "This helps capture:\n",
        "- Context\n",
        "- Word relationships\n",
        "- Long-range dependencies\n",
        "\n",
        "$$\n",
        "\\text{Attention}(Q, K, V) = \\text{softmax}\\left( \\frac{QK^T}{\\sqrt{d_k}} \\right)V\n",
        "$$\n",
        "\n",
        "Where:\n",
        "- Q = Query\n",
        "- K = Key\n",
        "- V = Value\n",
        "\n",
        "---\n",
        "\n",
        "### 📦 Key Components\n",
        "\n",
        "| Component        | Role                                         |\n",
        "|------------------|----------------------------------------------|\n",
        "| Multi-head Attention | Captures relationships from different subspaces |\n",
        "| Positional Encoding | Adds order to the input tokens            |\n",
        "| Feed-Forward Layer | Transforms each token independently        |\n",
        "| Layer Norm + Residual | Helps in training deep layers           |\n",
        "\n",
        "---"
      ],
      "metadata": {
        "id": "noPShB7zPa2u"
      }
    },
    {
      "cell_type": "markdown",
      "source": [
        "## 📐 Transformer Architecture\n",
        "\n",
        "A single **Transformer block** includes:\n",
        "- Multi-head Self-Attention\n",
        "- Layer Norm\n",
        "- Feedforward Layers\n",
        "- Positional Encoding\n",
        "\n",
        "Stack many such blocks → Transformer model.\n",
        "\n",
        "---"
      ],
      "metadata": {
        "id": "nJ75A_hHOovD"
      }
    },
    {
      "cell_type": "markdown",
      "source": [
        "# **SECTION 4: Load Pretrained BERT (Text Classification)**"
      ],
      "metadata": {
        "id": "JqXAh9tZNlyq"
      }
    },
    {
      "cell_type": "markdown",
      "source": [
        "## 🧠 What is BERT?\n",
        "\n",
        "**BERT = Bidirectional Encoder Representations from Transformers**\n",
        "\n",
        "It:\n",
        "- Uses only the **encoder** part of the Transformer\n",
        "- Reads text in **both directions**\n",
        "- Pretrained on:\n",
        "  - **Masked Language Modeling** (fill in the blanks)\n",
        "  - **Next Sentence Prediction** (understand relationships)\n",
        "\n",
        "---\n"
      ],
      "metadata": {
        "id": "mUVS2FBcOzQL"
      }
    },
    {
      "cell_type": "markdown",
      "source": [
        "## 🧱 Encoder vs Decoder\n",
        "\n",
        "| Encoder (BERT)       | Decoder (GPT)       |\n",
        "|----------------------|---------------------|\n",
        "| Bidirectional        | Autoregressive       |\n",
        "| Looks at full context | Left-to-right only |\n",
        "| Ideal for classification, QA | Ideal for text generation |\n",
        "\n",
        "---"
      ],
      "metadata": {
        "id": "UxKHoDyVPm4_"
      }
    },
    {
      "cell_type": "markdown",
      "source": [
        "## 🔧 Using BERT via Hugging Face\n",
        "\n",
        "Hugging Face 🤗 Transformers makes it easy to use pretrained BERT models.\n",
        "\n",
        "```python\n",
        "from transformers import pipeline\n",
        "\n",
        "classifier = pipeline(\"sentiment-analysis\")\n",
        "print(classifier(\"I love this movie!\"))\n",
        "```"
      ],
      "metadata": {
        "id": "VsRX2vx6O7ET"
      }
    },
    {
      "cell_type": "code",
      "source": [
        "from transformers import pipeline"
      ],
      "metadata": {
        "id": "rduhfNPsNnLM"
      },
      "execution_count": 2,
      "outputs": []
    },
    {
      "cell_type": "code",
      "source": [
        "# Use a simple sentiment analysis pipeline\n",
        "classifier = pipeline(\"sentiment-analysis\")\n",
        "result = classifier(\"Transformers are revolutionizing NLP!\")\n",
        "print(result)"
      ],
      "metadata": {
        "colab": {
          "base_uri": "https://localhost:8080/",
          "height": 383,
          "referenced_widgets": [
            "8b8b55dcf391449b8ca026fe75e56b52",
            "e890dd7fb91d4974af99b0948b8421ef",
            "378fa001e2874f11be60699ebbb4c8a4",
            "aba97213679c4f06bb797a4bf8b64144",
            "ddc18839a49245699e1e7228630c9a04",
            "6bf91a34bf13420ea264d30a0d9e3e31",
            "5611ff8ac8ea4011a7cdd975fb72f601",
            "3d07c1119c9147b4afd8ca730c4b1b14",
            "503a8a6fc5bd4500b8a00b62867f8928",
            "0d4574f54f3546fb8e159021bb11b927",
            "606310ad382c4b23b870cb99c10e1522",
            "52893652a1b348a0925c6008f1d41f88",
            "c1f1d488cabf49bdaa336a5cd4b928d7",
            "e827f245a84247c8ad498a4f070da2f1",
            "689eec205db84175aed9d6fc7f16d627",
            "4a0eabf565d349de8abe7d023e1e30d5",
            "448b03ac07be4f25b220f1a225cac396",
            "bb82e487e3114ff79d4976e806bba580",
            "3fbe745b1fb545f6b47593fae7815358",
            "47c59d2b2ba64e569a7b646959a137ca",
            "f39a52215bcf44ea99a737dcf98bc2f4",
            "76187fcc8a5349e297eaa1c35494cf33",
            "5e322a3314cd401ca39a5274351dec68",
            "c1282d831a204f38846e273ba9f8fba2",
            "dc07f9c1674b4169a8e0c5c4e282a8c8",
            "5c9f904fb4d04c60b6697273fa6a63c8",
            "0cdb931fcace483daeecd4fc7439a111",
            "2858b69181b840cb9ad0a3f738ea99cb",
            "e74552f201f94f64b263981b4053be16",
            "21ffbd0f632143bcb24a4a683e483c6c",
            "7739fff0d4a0419689c12865c0b523ce",
            "e8d5781e66f54e92ab74e76318470bb9",
            "b91c4d672a1644f8a220b2ee65c6a72a",
            "4979e70eb36e4192b0ed9c142f5b9065",
            "e5a7eacb4c0d4d89bc61169514f47cfa",
            "f0bef0c6da8448338ed081ce4f2cf6ed",
            "e621ade93e5b47d99066994ecba62b62",
            "6a6a7a1b7eaf4e4e83a9497377d6205d",
            "32f9c640df0546c0a97b65876e26ea4d",
            "0519d83b6c4b413984887b715d8f1288",
            "35287785a8e94715905caca9130f4072",
            "7ea745c639ba475f83bb3f58b450ff88",
            "84d5a71b524f461da05d83666b5ae33f",
            "dcd86441caa5433e929240f264af1fbf"
          ]
        },
        "id": "dLqUtbneNpV1",
        "outputId": "5537a767-55ba-45ca-9ab6-beba2cdc938c"
      },
      "execution_count": 3,
      "outputs": [
        {
          "output_type": "stream",
          "name": "stderr",
          "text": [
            "No model was supplied, defaulted to distilbert/distilbert-base-uncased-finetuned-sst-2-english and revision 714eb0f (https://huggingface.co/distilbert/distilbert-base-uncased-finetuned-sst-2-english).\n",
            "Using a pipeline without specifying a model name and revision in production is not recommended.\n",
            "/usr/local/lib/python3.11/dist-packages/huggingface_hub/utils/_auth.py:94: UserWarning: \n",
            "The secret `HF_TOKEN` does not exist in your Colab secrets.\n",
            "To authenticate with the Hugging Face Hub, create a token in your settings tab (https://huggingface.co/settings/tokens), set it as secret in your Google Colab and restart your session.\n",
            "You will be able to reuse this secret in all of your notebooks.\n",
            "Please note that authentication is recommended but still optional to access public models or datasets.\n",
            "  warnings.warn(\n"
          ]
        },
        {
          "output_type": "display_data",
          "data": {
            "text/plain": [
              "config.json:   0%|          | 0.00/629 [00:00<?, ?B/s]"
            ],
            "application/vnd.jupyter.widget-view+json": {
              "version_major": 2,
              "version_minor": 0,
              "model_id": "8b8b55dcf391449b8ca026fe75e56b52"
            }
          },
          "metadata": {}
        },
        {
          "output_type": "stream",
          "name": "stderr",
          "text": [
            "Xet Storage is enabled for this repo, but the 'hf_xet' package is not installed. Falling back to regular HTTP download. For better performance, install the package with: `pip install huggingface_hub[hf_xet]` or `pip install hf_xet`\n",
            "WARNING:huggingface_hub.file_download:Xet Storage is enabled for this repo, but the 'hf_xet' package is not installed. Falling back to regular HTTP download. For better performance, install the package with: `pip install huggingface_hub[hf_xet]` or `pip install hf_xet`\n"
          ]
        },
        {
          "output_type": "display_data",
          "data": {
            "text/plain": [
              "model.safetensors:   0%|          | 0.00/268M [00:00<?, ?B/s]"
            ],
            "application/vnd.jupyter.widget-view+json": {
              "version_major": 2,
              "version_minor": 0,
              "model_id": "52893652a1b348a0925c6008f1d41f88"
            }
          },
          "metadata": {}
        },
        {
          "output_type": "display_data",
          "data": {
            "text/plain": [
              "tokenizer_config.json:   0%|          | 0.00/48.0 [00:00<?, ?B/s]"
            ],
            "application/vnd.jupyter.widget-view+json": {
              "version_major": 2,
              "version_minor": 0,
              "model_id": "5e322a3314cd401ca39a5274351dec68"
            }
          },
          "metadata": {}
        },
        {
          "output_type": "display_data",
          "data": {
            "text/plain": [
              "vocab.txt:   0%|          | 0.00/232k [00:00<?, ?B/s]"
            ],
            "application/vnd.jupyter.widget-view+json": {
              "version_major": 2,
              "version_minor": 0,
              "model_id": "4979e70eb36e4192b0ed9c142f5b9065"
            }
          },
          "metadata": {}
        },
        {
          "output_type": "stream",
          "name": "stderr",
          "text": [
            "Device set to use cpu\n"
          ]
        },
        {
          "output_type": "stream",
          "name": "stdout",
          "text": [
            "[{'label': 'POSITIVE', 'score': 0.9956631064414978}]\n"
          ]
        }
      ]
    },
    {
      "cell_type": "code",
      "source": [
        "# Try another sentence\n",
        "print(classifier(\"I hate this so much.\"))"
      ],
      "metadata": {
        "colab": {
          "base_uri": "https://localhost:8080/"
        },
        "id": "fuVW1d9DN0oM",
        "outputId": "fcd7de1d-4730-4287-9dda-cc697562b395"
      },
      "execution_count": 4,
      "outputs": [
        {
          "output_type": "stream",
          "name": "stdout",
          "text": [
            "[{'label': 'NEGATIVE', 'score': 0.9995205402374268}]\n"
          ]
        }
      ]
    },
    {
      "cell_type": "markdown",
      "source": [
        "# **SECTION 5: Tokenization (How Transformers See Text)**"
      ],
      "metadata": {
        "id": "Vp2THOTAOAv1"
      }
    },
    {
      "cell_type": "code",
      "source": [
        "from transformers import AutoTokenizer"
      ],
      "metadata": {
        "id": "Zw8EV2XHN-JV"
      },
      "execution_count": 5,
      "outputs": []
    },
    {
      "cell_type": "code",
      "source": [
        "# Load BERT tokenizer\n",
        "tokenizer = AutoTokenizer.from_pretrained(\"bert-base-uncased\")\n",
        "example = \"Transformers are powerful models.\"\n",
        "tokens = tokenizer.tokenize(example)\n",
        "ids = tokenizer.convert_tokens_to_ids(tokens)"
      ],
      "metadata": {
        "colab": {
          "base_uri": "https://localhost:8080/",
          "height": 145,
          "referenced_widgets": [
            "cc2ed837c1f24e83912c58a7ba8a1121",
            "ec8a4ef23d324df69c4cefc6ae8dc28b",
            "64d3152ab0244e07ab1db330e398dc9c",
            "e3e789cc55a747c2bf5a0cd5793bafd4",
            "5b0e349dd6624898b2d9dbb5d347e5e1",
            "e38da1567bdd4c7ababab45cdc8359e2",
            "c5cd4df5c26e44cfae408b0f90b9425a",
            "18db7d4f82c34969aa5b412960dd6ae1",
            "4cb8a79c0582433e821ee51586e2f475",
            "96b152af89e84f3d9a24c4d7fbc3d727",
            "0b2cf16133d54dcc862dc4010e99bcec",
            "b2f14cae4fcb4b878bc22790942c0dff",
            "cb6840fe233c4b7d81ca8b22fbfaaab7",
            "a4718da3fae346c3a5673c4689403b26",
            "757f2540b682411499f55eed451b5103",
            "5defbe2d6d634635ab1b30252f7d0109",
            "764db8197ae34b61b5875d5fd7224847",
            "5b94420b79f94305b45d88b3dc3cecb8",
            "5f4464ebbb214e2c832f7be735165e3d",
            "c4d06d3ce359482ca462785422ba0623",
            "4da0b0e3079a4c98b94aeb976da6c843",
            "92800c253c54490a905ec0fe9f26c10e",
            "bbcad38663f146d9ae55dd47a9c38562",
            "47b3074cda35419ead95136f45452492",
            "e2624b27ef8d4313afc315b13963692a",
            "2fbbc190eb794949b9910a1f7eb3a086",
            "7634672d4c8d49b6ac2dbd956cf02702",
            "306c87cb481349d3a1ffe723d4a45ade",
            "27bb70dc301047a299c07c338439dd13",
            "724d5600edb940909b4a0cf065937e1d",
            "d6e6de4529624d73ac158aa9d829cade",
            "3799364726ce4016abe643ffb85e4663",
            "06bfc86090a24b4e9206a56c66442937",
            "6f8e5e3ffb144bfc88ef8154b5a1bb42",
            "93cd0756a209423ea2b8d0008e030dc9",
            "9f312f149ca5488d86321b0e446c6ee0",
            "98e4a76abe234377b408789d7496ab97",
            "0379e505c35744828504501033b7b1f7",
            "28fde68d424d4bceb279e5d438387880",
            "1c8f1afbecab46c088e1da069f217793",
            "2069db7819454278850b9da89f3d3983",
            "917ce0c25fa3459a9df16365f1e742a7",
            "4b84ff6e3e5941249dfb37b59cb8f3bd",
            "4435e1eb8e86458fbb9c3cf1ba439cde"
          ]
        },
        "id": "sSXE-PlDOD1d",
        "outputId": "117e3bbf-36bc-4a72-ccc3-4dc847b7a3c0"
      },
      "execution_count": 6,
      "outputs": [
        {
          "output_type": "display_data",
          "data": {
            "text/plain": [
              "tokenizer_config.json:   0%|          | 0.00/48.0 [00:00<?, ?B/s]"
            ],
            "application/vnd.jupyter.widget-view+json": {
              "version_major": 2,
              "version_minor": 0,
              "model_id": "cc2ed837c1f24e83912c58a7ba8a1121"
            }
          },
          "metadata": {}
        },
        {
          "output_type": "display_data",
          "data": {
            "text/plain": [
              "config.json:   0%|          | 0.00/570 [00:00<?, ?B/s]"
            ],
            "application/vnd.jupyter.widget-view+json": {
              "version_major": 2,
              "version_minor": 0,
              "model_id": "b2f14cae4fcb4b878bc22790942c0dff"
            }
          },
          "metadata": {}
        },
        {
          "output_type": "display_data",
          "data": {
            "text/plain": [
              "vocab.txt:   0%|          | 0.00/232k [00:00<?, ?B/s]"
            ],
            "application/vnd.jupyter.widget-view+json": {
              "version_major": 2,
              "version_minor": 0,
              "model_id": "bbcad38663f146d9ae55dd47a9c38562"
            }
          },
          "metadata": {}
        },
        {
          "output_type": "display_data",
          "data": {
            "text/plain": [
              "tokenizer.json:   0%|          | 0.00/466k [00:00<?, ?B/s]"
            ],
            "application/vnd.jupyter.widget-view+json": {
              "version_major": 2,
              "version_minor": 0,
              "model_id": "6f8e5e3ffb144bfc88ef8154b5a1bb42"
            }
          },
          "metadata": {}
        }
      ]
    },
    {
      "cell_type": "code",
      "source": [
        "print(\"Tokens:\", tokens)\n",
        "print(\"Token IDs:\", ids)"
      ],
      "metadata": {
        "colab": {
          "base_uri": "https://localhost:8080/"
        },
        "id": "rI4JJ_RiOGh3",
        "outputId": "39e49488-12c0-4793-dbf2-33a27f75cd73"
      },
      "execution_count": 7,
      "outputs": [
        {
          "output_type": "stream",
          "name": "stdout",
          "text": [
            "Tokens: ['transformers', 'are', 'powerful', 'models', '.']\n",
            "Token IDs: [19081, 2024, 3928, 4275, 1012]\n"
          ]
        }
      ]
    },
    {
      "cell_type": "markdown",
      "source": [
        "\n",
        "## 🔍 Real-World Use Cases of BERT\n",
        "\n",
        "| Task                      | Description                                      |\n",
        "|---------------------------|--------------------------------------------------|\n",
        "| Sentiment Classification  | Predict sentiment from reviews                   |\n",
        "| Named Entity Recognition  | Identify names, places, etc.                     |\n",
        "| Question Answering        | Extract answers from passages                    |\n",
        "| Semantic Similarity       | Compare sentence meanings                        |\n",
        "\n",
        "---"
      ],
      "metadata": {
        "id": "3ZmygYTFPuRg"
      }
    },
    {
      "cell_type": "markdown",
      "source": [
        "## 🧠 Concept Check: BERT vs GPT\n",
        "|Aspect             | BERT               | GPT\n",
        "|-------------------|--------------------|-------------------------\n",
        "|Direction          | Bidirectional      | Left-to-right\n",
        "|Training Objective | MLM + NSP          | Next token prediction\n",
        "|Strengths          | Classification, QA | Text generation"
      ],
      "metadata": {
        "id": "0hE08e6IQCfK"
      }
    },
    {
      "cell_type": "markdown",
      "source": [
        "## 📘 Summary\n",
        "Transformers changed NLP forever:\n",
        "\n",
        "- BERT → bidirectional understanding of language\n",
        "\n",
        "- Hugging Face → makes it super easy to use\n",
        "\n",
        "- One model can solve many tasks\n",
        "\n"
      ],
      "metadata": {
        "id": "uV1iFbYkQuVm"
      }
    },
    {
      "cell_type": "markdown",
      "source": [
        "# **SECTION 6: Fine-Tuning BERT (on Custom Dataset - Optional)**"
      ],
      "metadata": {
        "id": "Miu3iQG3OMf2"
      }
    },
    {
      "cell_type": "markdown",
      "source": [
        "### 🧪 Want to Go Further?\n",
        "Use `Trainer` or `AutoModelForSequenceClassification` from Hugging Face\n",
        "and fine-tune BERT on your own text classification dataset 🚀\n",
        "\n",
        "We'll revisit this in the capstone projects."
      ],
      "metadata": {
        "id": "QJ2xy4HUOOo3"
      }
    },
    {
      "cell_type": "markdown",
      "source": [
        "# **SECTION 7: Exercises**"
      ],
      "metadata": {
        "id": "Rt5ogJaWOQzv"
      }
    },
    {
      "cell_type": "markdown",
      "source": [
        "### 📝 Exercises:\n",
        "1. Try the `zero-shot-classification` pipeline.\n",
        "2. Tokenize a custom sentence and decode the IDs.\n",
        "3. Use `AutoModel` and `AutoTokenizer` to extract embeddings.\n",
        "4. Read BERT's original paper or Hugging Face docs."
      ],
      "metadata": {
        "id": "WAvMPYKfOTSP"
      }
    },
    {
      "cell_type": "markdown",
      "source": [
        "**👋 Next week**: We'll explore modern **NLP architectures like T5 and BART** — powerful encoder-decoder models for summarization, rephrasing, and generation!"
      ],
      "metadata": {
        "id": "NEEvL8MvQ2Zu"
      }
    }
  ]
}