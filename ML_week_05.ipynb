{
  "nbformat": 4,
  "nbformat_minor": 0,
  "metadata": {
    "colab": {
      "provenance": [],
      "authorship_tag": "ABX9TyOyRcNG2RuHRkp7wgQjPipy",
      "include_colab_link": true
    },
    "kernelspec": {
      "name": "python3",
      "display_name": "Python 3"
    },
    "language_info": {
      "name": "python"
    }
  },
  "cells": [
    {
      "cell_type": "markdown",
      "metadata": {
        "id": "view-in-github",
        "colab_type": "text"
      },
      "source": [
        "<a href=\"https://colab.research.google.com/github/debojit11/ml_nlp_dl_transformers/blob/main/ML_week_05.ipynb\" target=\"_parent\"><img src=\"https://colab.research.google.com/assets/colab-badge.svg\" alt=\"Open In Colab\"/></a>"
      ]
    },
    {
      "cell_type": "markdown",
      "source": [
        "# Week 5: Random Forests & Smarter Model Evaluation"
      ],
      "metadata": {
        "id": "rJBshpJAnXtM"
      }
    },
    {
      "cell_type": "markdown",
      "source": [
        "# **SECTION 1: Welcome & Objectives**"
      ],
      "metadata": {
        "id": "DkBECJHbnZC7"
      }
    },
    {
      "cell_type": "code",
      "execution_count": 1,
      "metadata": {
        "colab": {
          "base_uri": "https://localhost:8080/"
        },
        "id": "J9UTZuspnWHQ",
        "outputId": "f435896f-4773-466e-a64a-ab790b5412eb"
      },
      "outputs": [
        {
          "output_type": "stream",
          "name": "stdout",
          "text": [
            "Welcome to Week 5!\n",
            "This week, you'll:\n",
            "- Learn about Random Forests: a powerful ensemble of decision trees\n",
            "- Understand overfitting and how to reduce it\n",
            "- Learn better model evaluation techniques beyond just accuracy\n"
          ]
        }
      ],
      "source": [
        "print(\"Welcome to Week 5!\")\n",
        "print(\"This week, you'll:\")\n",
        "print(\"- Learn about Random Forests: a powerful ensemble of decision trees\")\n",
        "print(\"- Understand overfitting and how to reduce it\")\n",
        "print(\"- Learn better model evaluation techniques beyond just accuracy\")"
      ]
    },
    {
      "cell_type": "markdown",
      "source": [
        "# **SECTION 2: Why Random Forests?**"
      ],
      "metadata": {
        "id": "R_9duZ99n9DW"
      }
    },
    {
      "cell_type": "markdown",
      "source": [
        "### Why Do We Need Random Forests?\n",
        "Decision Trees are easy to understand, but:\n",
        "- They overfit easily\n",
        "- They're sensitive to small changes in data\n",
        "\n",
        "➡️ **Random Forests** fix this by combining many trees and averaging their decisions. This reduces overfitting and increases robustness."
      ],
      "metadata": {
        "id": "lfftSXZMoD3Y"
      }
    },
    {
      "cell_type": "markdown",
      "source": [
        "# **SECTION 3: Reuse SMS Spam Dataset**"
      ],
      "metadata": {
        "id": "YUCfu3_qoH7_"
      }
    },
    {
      "cell_type": "code",
      "source": [
        "import pandas as pd\n",
        "from sklearn.model_selection import train_test_split\n",
        "from sklearn.feature_extraction.text import TfidfVectorizer"
      ],
      "metadata": {
        "id": "b2c5--0yngcu"
      },
      "execution_count": 2,
      "outputs": []
    },
    {
      "cell_type": "code",
      "source": [
        "url = \"https://raw.githubusercontent.com/justmarkham/pycon-2016-tutorial/master/data/sms.tsv\"\n",
        "data = pd.read_csv(url, sep='\\t', names=[\"label\", \"message\"])\n",
        "data['label_num'] = data['label'].map({'ham': 0, 'spam': 1})"
      ],
      "metadata": {
        "id": "8xF1InQooMhZ"
      },
      "execution_count": 3,
      "outputs": []
    },
    {
      "cell_type": "code",
      "source": [
        "vectorizer = TfidfVectorizer()\n",
        "X = vectorizer.fit_transform(data['message'])\n",
        "y = data['label_num']\n",
        "X_train, X_test, y_train, y_test = train_test_split(X, y, test_size=0.2, random_state=42)"
      ],
      "metadata": {
        "id": "862NJ7mYoQsB"
      },
      "execution_count": 4,
      "outputs": []
    },
    {
      "cell_type": "markdown",
      "source": [
        "## 🌲 Week 5 – Random Forests & Smarter Evaluation\n",
        "\n",
        "---\n",
        "\n",
        "### 🚨 Why Not Just Use Decision Trees?\n",
        "\n",
        "Decision Trees are great, but:\n",
        "- They tend to **memorize the training data**\n",
        "- A small change in the data can create a very different tree\n",
        "- One tree = one opinion (not always reliable)\n",
        "\n",
        "➡️ We need a smarter solution...\n",
        "\n",
        "---\n",
        "\n",
        "## 🌳 Enter Random Forests\n",
        "\n",
        "### 🌟 Core Idea:\n",
        "Instead of using **one big decision tree**, we use **many small ones**.  \n",
        "Each tree is trained slightly differently (on different data/features).  \n",
        "Then we take a **vote** from all the trees.\n",
        "\n",
        "> It's like asking a group of friends instead of just one — less chance of overfitting.\n",
        "\n",
        "---\n",
        "\n",
        "### 🧮 How It Works\n",
        "\n",
        "1. Take multiple **random samples** from your training data (with replacement).\n",
        "2. Train a **decision tree** on each sample (this is called **bagging**).\n",
        "3. For each tree, only use a **random subset of features** at each split.\n",
        "4. When predicting, take a **majority vote** (for classification) or **average** (for regression).\n",
        "\n",
        "---\n",
        "\n",
        "### 📐 Math (Intuition)\n",
        "\n",
        "- For each tree $T_i$, you get a prediction $h_i(x)$ for input $x$.\n",
        "- Final prediction =  \n",
        "  - **Classification**:  \n",
        "    $$\n",
        "    \\hat{y} = \\text{majority\\_vote}(h_1(x), h_2(x), ..., h_n(x))\n",
        "    $$\n",
        "  - **Regression**:  \n",
        "    $$\n",
        "    \\hat{y} = \\frac{1}{n} \\sum_{i=1}^{n} h_i(x)\n",
        "    $$\n",
        "\n",
        "---\n",
        "\n",
        "### 🔥 Why Random Forests Work Well\n",
        "\n",
        "- By training on different subsets, the trees become **diverse**.\n",
        "- Combining diverse trees reduces **variance**.\n",
        "- This improves generalization and avoids overfitting.\n",
        "\n",
        "---"
      ],
      "metadata": {
        "id": "U8djxdfnpRAu"
      }
    },
    {
      "cell_type": "markdown",
      "source": [
        "# **SECTION 4: Train Random Forest**"
      ],
      "metadata": {
        "id": "a2Shny7doVwB"
      }
    },
    {
      "cell_type": "code",
      "source": [
        "from sklearn.ensemble import RandomForestClassifier\n",
        "from sklearn.metrics import classification_report, confusion_matrix"
      ],
      "metadata": {
        "id": "iF0_Cn19oTkR"
      },
      "execution_count": 5,
      "outputs": []
    },
    {
      "cell_type": "code",
      "source": [
        "rf = RandomForestClassifier(n_estimators=100, max_depth=15, random_state=42)\n",
        "rf.fit(X_train, y_train)\n",
        "y_pred_rf = rf.predict(X_test)"
      ],
      "metadata": {
        "id": "fOOcRLS1oZKy"
      },
      "execution_count": 6,
      "outputs": []
    },
    {
      "cell_type": "code",
      "source": [
        "print(\"--- Random Forest ---\")\n",
        "print(classification_report(y_test, y_pred_rf))"
      ],
      "metadata": {
        "colab": {
          "base_uri": "https://localhost:8080/"
        },
        "id": "6sYvL5eBoa9p",
        "outputId": "94c96d03-4325-4ded-a610-f8dd3e82ea34"
      },
      "execution_count": 7,
      "outputs": [
        {
          "output_type": "stream",
          "name": "stdout",
          "text": [
            "--- Random Forest ---\n",
            "              precision    recall  f1-score   support\n",
            "\n",
            "           0       0.94      1.00      0.97       966\n",
            "           1       1.00      0.55      0.71       149\n",
            "\n",
            "    accuracy                           0.94      1115\n",
            "   macro avg       0.97      0.78      0.84      1115\n",
            "weighted avg       0.94      0.94      0.93      1115\n",
            "\n"
          ]
        }
      ]
    },
    {
      "cell_type": "markdown",
      "source": [
        "# **SECTION 5: Evaluate with Confusion Matrix and More**"
      ],
      "metadata": {
        "id": "5301QH1poiuz"
      }
    },
    {
      "cell_type": "code",
      "source": [
        "import seaborn as sns\n",
        "import matplotlib.pyplot as plt\n",
        "from sklearn.metrics import ConfusionMatrixDisplay, roc_auc_score, roc_curve"
      ],
      "metadata": {
        "id": "CaEyC5NiodQ6"
      },
      "execution_count": 8,
      "outputs": []
    },
    {
      "cell_type": "markdown",
      "source": [
        "## Confusion matrix"
      ],
      "metadata": {
        "id": "znh6sCfyooZq"
      }
    },
    {
      "cell_type": "code",
      "source": [
        "cm = confusion_matrix(y_test, y_pred_rf)\n",
        "ConfusionMatrixDisplay(cm, display_labels=['Ham', 'Spam']).plot()\n",
        "plt.title(\"Confusion Matrix - Random Forest\")\n",
        "plt.show()"
      ],
      "metadata": {
        "colab": {
          "base_uri": "https://localhost:8080/",
          "height": 472
        },
        "id": "EhnwQigHomGK",
        "outputId": "8f480b76-a14c-42c3-8e10-182a37f5513f"
      },
      "execution_count": 9,
      "outputs": [
        {
          "output_type": "display_data",
          "data": {
            "text/plain": [
              "<Figure size 640x480 with 2 Axes>"
            ],
            "image/png": "[encoded data removed]"
          },
          "metadata": {}
        }
      ]
    },
    {
      "cell_type": "markdown",
      "source": [
        "## ROC Curve"
      ],
      "metadata": {
        "id": "-IgfH0Wlo0G0"
      }
    },
    {
      "cell_type": "code",
      "source": [
        "y_probs = rf.predict_proba(X_test)[:, 1]\n",
        "fpr, tpr, thresholds = roc_curve(y_test, y_probs)\n",
        "auc_score = roc_auc_score(y_test, y_probs)\n",
        "\n",
        "plt.plot(fpr, tpr, label=f\"AUC = {auc_score:.2f}\")\n",
        "plt.plot([0, 1], [0, 1], linestyle=\"--\", color=\"gray\")\n",
        "plt.xlabel(\"False Positive Rate\")\n",
        "plt.ylabel(\"True Positive Rate\")\n",
        "plt.title(\"ROC Curve\")\n",
        "plt.legend()\n",
        "plt.grid(True)\n",
        "plt.show()"
      ],
      "metadata": {
        "colab": {
          "base_uri": "https://localhost:8080/",
          "height": 472
        },
        "id": "ONE2OjePot5c",
        "outputId": "099fbbd3-2cfc-4561-d5cc-4844013f42e1"
      },
      "execution_count": 10,
      "outputs": [
        {
          "output_type": "display_data",
          "data": {
            "text/plain": [
              "<Figure size 640x480 with 1 Axes>"
            ],
            "image/png": "[encoded data removed]"
          },
          "metadata": {}
        }
      ]
    },
    {
      "cell_type": "markdown",
      "source": [
        "\n",
        "## 📊 Model Evaluation – Beyond Accuracy\n",
        "\n",
        "Accuracy isn't always the best measure (especially if your classes are imbalanced).\n",
        "\n",
        "### 📦 Confusion Matrix\n",
        "\n",
        "|                | Predicted Spam | Predicted Ham |\n",
        "|----------------|----------------|---------------|\n",
        "| **Actual Spam**| True Positive  | False Negative|\n",
        "| **Actual Ham** | False Positive | True Negative |\n",
        "\n",
        "From this matrix, we get:\n",
        "\n",
        "- **Precision**:  \n",
        "  $\n",
        "  \\text{Precision} = \\frac{TP}{TP + FP}\n",
        "  $\n",
        "- **Recall**:  \n",
        "  $\n",
        "  \\text{Recall} = \\frac{TP}{TP + FN}\n",
        "  $\n",
        "- **F1 Score**:  \n",
        "  $\n",
        "  \\text{F1} = 2 \\cdot \\frac{\\text{Precision} \\cdot \\text{Recall}}{\\text{Precision} + \\text{Recall}}\n",
        "  $\n",
        "\n",
        "---\n",
        "\n",
        "### 📈 ROC Curve & AUC\n",
        "\n",
        "- The ROC curve plots **True Positive Rate** (Recall) vs **False Positive Rate**\n",
        "- **AUC** = Area under the ROC curve  \n",
        "  A perfect model has AUC = 1.0, random guess = 0.5\n",
        "\n",
        "$$\n",
        "\\text{AUC} = \\int_{0}^{1} TPR(FPR) \\, dFPR\n",
        "$$\n",
        "\n",
        "---\n",
        "\n",
        "### 🔧 Tuning Tips\n",
        "\n",
        "- `n_estimators`: Number of trees (more trees = better, but slower)\n",
        "- `max_depth`: Limit depth to avoid overfitting\n",
        "- `min_samples_leaf`: Minimum number of samples at leaf nodes (helps generalization)\n",
        "- Feature importance: Random Forest tells you **which words** were most useful\n",
        "\n",
        "---"
      ],
      "metadata": {
        "id": "2xKTirlfp0nK"
      }
    },
    {
      "cell_type": "markdown",
      "source": [
        "### 🧠 TL;DR\n",
        "\n",
        "| Model           | Strengths                       | Weaknesses                   |\n",
        "|------------------|----------------------------------|-------------------------------|\n",
        "| Decision Tree     | Easy to understand              | Overfits easily               |\n",
        "| Random Forest     | Powerful and robust             | Slower, less interpretable    |\n",
        "| Logistic Reg.     | Fast, good baseline             | Linear decision boundary only |\n",
        "\n",
        "---\n",
        "\n",
        "You’ve now learned **your first ensemble method** and how to **evaluate models properly**.  "
      ],
      "metadata": {
        "id": "3txByHGGqFzc"
      }
    },
    {
      "cell_type": "markdown",
      "source": [
        "# **SECTION 6: What’s Coming Next?**"
      ],
      "metadata": {
        "id": "5D9aV0jNo6bN"
      }
    },
    {
      "cell_type": "markdown",
      "source": [
        "### What’s Next in Week 6?\n",
        "You’ve learned how Random Forests combine many decision trees to improve predictions.\n",
        "But what if we could classify data by simply comparing it to the most **similar examples**?\n",
        "\n",
        "➡️ Next week, we dive into **K-Nearest Neighbors (KNN)** — a simple but powerful approach that classifies based on proximity in feature space! 🏃‍♂️📍"
      ],
      "metadata": {
        "id": "0WUi8XHjo8CM"
      }
    },
    {
      "cell_type": "markdown",
      "source": [
        "### Exercises:\n",
        "1. Try using `CountVectorizer` instead of `TfidfVectorizer`\n",
        "2. Tune `n_estimators` and `max_depth` of the Random Forest\n",
        "3. Try `min_samples_leaf=5` and see how it affects overfitting\n",
        "4. Plot the top 10 most important features using `rf.feature_importances_`"
      ],
      "metadata": {
        "id": "j_CLbVSko-zM"
      }
    }
  ]
}